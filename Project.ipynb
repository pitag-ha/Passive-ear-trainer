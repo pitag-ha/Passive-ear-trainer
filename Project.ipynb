{
 "cells": [
  {
   "cell_type": "code",
   "execution_count": 1,
   "metadata": {},
   "outputs": [],
   "source": [
    "%matplotlib inline\n",
    "import librosa, librosa.display\n",
    "import IPython.display as ipd\n",
    "import vamp\n",
    "import matplotlib.pyplot as plt\n",
    "import numpy as np\n",
    "import scipy.fftpack as fft\n",
    "import re"
   ]
  },
  {
   "cell_type": "code",
   "execution_count": 2,
   "metadata": {},
   "outputs": [],
   "source": [
    "import re\n",
    "import collections"
   ]
  },
  {
   "cell_type": "code",
   "execution_count": 3,
   "metadata": {},
   "outputs": [],
   "source": [
    "import pprint\n",
    "pp = pprint.PrettyPrinter(indent=4)\n",
    "pprint = pp.pprint"
   ]
  },
  {
   "cell_type": "code",
   "execution_count": 4,
   "metadata": {},
   "outputs": [],
   "source": [
    "import vamp"
   ]
  },
  {
   "cell_type": "code",
   "execution_count": 5,
   "metadata": {},
   "outputs": [],
   "source": [
    "#path = '/home/sonja/Dropbox/RC/passive_ear_trainer/Songs/internationale.mp4'\n",
    "path = '/home/sonja/Dropbox/RC/passive_ear_trainer/Songs/Autumn Leaves - Yenne Lee plays 2004 Pepe Romero Jr.-HxGT5z6d-GA.m4a'\n",
    "#path = '/home/sonja/Dropbox/RC/passive_ear_trainer/Songs/Beatles - I wanna hold your hand - live.m4a'\n",
    "#path = '/home/sonja/Dropbox/RC/passive_ear_trainer/Songs/Beatles - I wanna hold your hand -studio.m4a'\n",
    "#path = '/home/sonja/Dropbox/RC/passive_ear_trainer/Songs/Dumb Ways to Die-IJNR2EpS0jw.m4a'\n",
    "#path = '/home/sonja/Dropbox/RC/passive_ear_trainer/Songs/Queen - I Want to Break Free (Official Lyric Video)-WUOtCLOXgm8.m4a'\n",
    "#path = '/home/sonja/Dropbox/RC/passive_ear_trainer/Songs/Selena Gomez, Marshmello - Wolves (Official Music Video)-cH4E_t3m3xM.m4a'\n",
    "#path = '/home/sonja/Dropbox/RC/passive_ear_trainer/Songs/Ska-p Los hijos bastardos de la globalizacion con Letra-upnPasIYeMc.m4a'\n",
    "#path = '/home/sonja/Dropbox/RC/passive_ear_trainer/Songs/The Killers - Human-RIZdjT1472Y.m4a'\n",
    "#path = '/home/sonja/Dropbox/RC/passive_ear_trainer/Songs/THE MUFFIN SONG (asdfmovie feat. Schmoyoho)-LACbVhgtx9I.m4a'"
   ]
  },
  {
   "cell_type": "code",
   "execution_count": 6,
   "metadata": {},
   "outputs": [],
   "source": [
    "#HAS TO BE RUN FOR EVERY SONG\n",
    "song = librosa.load(path)"
   ]
  },
  {
   "cell_type": "code",
   "execution_count": 7,
   "metadata": {},
   "outputs": [],
   "source": [
    "cow = librosa.load('/home/sonja/Dropbox/RC/passive_ear_trainer/Songs/Kuh muht-TdheW61w4Co.m4a')"
   ]
  },
  {
   "cell_type": "code",
   "execution_count": 8,
   "metadata": {},
   "outputs": [
    {
     "name": "stdout",
     "output_type": "stream",
     "text": [
      "[   (0, {'label': 'N', 'timestamp':  0.371519274}),\n",
      "    (1, {'label': 'F#m7b5', 'timestamp':  0.464399092}),\n",
      "    (2, {'label': 'Bm', 'timestamp':  4.922630385}),\n",
      "    (3, {'label': 'Cmaj7', 'timestamp':  7.894784580}),\n",
      "    (4, {'label': 'D', 'timestamp':  9.287981859}),\n",
      "    (5, {'label': 'Am', 'timestamp':  11.238458049}),\n",
      "    (6, {'label': 'B7', 'timestamp':  12.074376417}),\n",
      "    (7, {'label': 'Em', 'timestamp':  14.489251700}),\n",
      "    (8, {'label': 'Am7', 'timestamp':  19.319002267}),\n",
      "    (9, {'label': 'D', 'timestamp':  21.640997732}),\n",
      "    (10, {'label': 'Cmaj7', 'timestamp':  25.634829931}),\n",
      "    (11, {'label': 'Am7', 'timestamp':  27.585306122}),\n",
      "    (12, {'label': 'B', 'timestamp':  29.535782312}),\n",
      "    (13, {'label': 'Em', 'timestamp':  31.114739229}),\n",
      "    (14, {'label': 'F#m7', 'timestamp':  35.665850340}),\n",
      "    (15, {'label': 'B7', 'timestamp':  37.894965986}),\n",
      "    (16, {'label': 'Em', 'timestamp':  39.845442176}),\n",
      "    (17, {'label': 'Am7', 'timestamp':  43.932154195}),\n",
      "    (18, {'label': 'D', 'timestamp':  46.347029478}),\n",
      "    (19, {'label': 'D6', 'timestamp':  48.111746031}),\n",
      "    (20, {'label': 'Am6', 'timestamp':  53.498775510}),\n",
      "    (21, {'label': 'B7', 'timestamp':  55.449251700}),\n",
      "    (22, {'label': 'F#dim', 'timestamp':  56.563809523}),\n",
      "    (23, {'label': 'Em', 'timestamp':  57.678367346}),\n",
      "    (24, {'label': 'Gmaj7', 'timestamp':  58.700045351}),\n",
      "    (25, {'label': 'Am7', 'timestamp':  61.950839002}),\n",
      "    (26, {'label': 'B7', 'timestamp':  64.644353741}),\n",
      "    (27, {'label': 'Em', 'timestamp':  66.037551020}),\n",
      "    (28, {'label': 'Am6', 'timestamp':  72.724897959}),\n",
      "    (29, {'label': 'D', 'timestamp':  75.418412698}),\n",
      "    (30, {'label': 'Gmaj7', 'timestamp':  77.183129251}),\n",
      "    (31, {'label': 'Cmaj7', 'timestamp':  79.133605442}),\n",
      "    (32, {'label': 'Am7', 'timestamp':  80.898321995}),\n",
      "    (33, {'label': 'B', 'timestamp':  83.034557823}),\n",
      "    (34, {'label': 'Em', 'timestamp':  84.799274376}),\n",
      "    (35, {'label': 'Am7', 'timestamp':  88.607346938}),\n",
      "    (36, {'label': 'D', 'timestamp':  90.464943310}),\n",
      "    (37, {'label': 'Gmaj7', 'timestamp':  92.415419501}),\n",
      "    (38, {'label': 'Cmaj7', 'timestamp':  94.365895691}),\n",
      "    (39, {'label': 'Am7', 'timestamp':  96.037732426}),\n",
      "    (40, {'label': 'B7', 'timestamp':  98.081088435}),\n",
      "    (41, {'label': 'Em', 'timestamp':  99.195646258}),\n",
      "    (42, {'label': 'F#m7', 'timestamp':  103.839637188}),\n",
      "    (43, {'label': 'B7', 'timestamp':  105.882993197}),\n",
      "    (44, {'label': 'Em', 'timestamp':  107.276190476}),\n",
      "    (45, {'label': 'Am7', 'timestamp':  111.548662131}),\n",
      "    (46, {'label': 'D', 'timestamp':  113.592018140}),\n",
      "    (47, {'label': 'Gmaj7', 'timestamp':  115.078095238}),\n",
      "    (48, {'label': 'Am7', 'timestamp':  119.071927437}),\n",
      "    (49, {'label': 'B7', 'timestamp':  120.650884353}),\n",
      "    (50, {'label': 'Em', 'timestamp':  122.694240362}),\n",
      "    (51, {'label': 'Gmaj7', 'timestamp':  124.551836734}),\n",
      "    (52, {'label': 'Am6', 'timestamp':  126.595192743}),\n",
      "    (53, {'label': 'B7', 'timestamp':  128.359909297}),\n",
      "    (54, {'label': 'Em', 'timestamp':  129.381587301}),\n",
      "    (55, {'label': 'Am6', 'timestamp':  133.839818594}),\n",
      "    (56, {'label': 'D/F#', 'timestamp':  135.325895691}),\n",
      "    (57, {'label': 'Gmaj7', 'timestamp':  136.719092970}),\n",
      "    (58, {'label': 'Cmaj7', 'timestamp':  138.576689342}),\n",
      "    (59, {'label': 'Am6', 'timestamp':  140.248526077}),\n",
      "    (60, {'label': 'B', 'timestamp':  142.013242630}),\n",
      "    (61, {'label': 'Gmaj7', 'timestamp':  143.127800453}),\n",
      "    (62, {'label': 'E/F#', 'timestamp':  146.007074829}),\n",
      "    (63, {'label': 'Am7', 'timestamp':  146.935873015}),\n",
      "    (64, {'label': 'D/F#', 'timestamp':  148.514829931}),\n",
      "    (65, {'label': 'Gmaj7', 'timestamp':  150.093786848}),\n",
      "    (66, {'label': 'Am6', 'timestamp':  153.344580498}),\n",
      "    (67, {'label': 'B', 'timestamp':  155.016417233}),\n",
      "    (68, {'label': 'Em', 'timestamp':  156.502494331}),\n",
      "    (69, {'label': 'F#m7', 'timestamp':  160.217687074}),\n",
      "    (70, {'label': 'B7', 'timestamp':  161.703764172}),\n",
      "    (71, {'label': 'Em', 'timestamp':  163.375600907}),\n",
      "    (72, {'label': 'Am7', 'timestamp':  166.719274376}),\n",
      "    (73, {'label': 'D', 'timestamp':  168.391111111}),\n",
      "    (74, {'label': 'Gmaj7', 'timestamp':  169.970068027}),\n",
      "    (75, {'label': 'Am7', 'timestamp':  173.406621315}),\n",
      "    (76, {'label': 'B7', 'timestamp':  175.171337868}),\n",
      "    (77, {'label': 'Gmaj7', 'timestamp':  176.750294784}),\n",
      "    (78, {'label': 'Am6', 'timestamp':  180.093968253}),\n",
      "    (79, {'label': 'B7', 'timestamp':  181.765804988}),\n",
      "    (80, {'label': 'Em', 'timestamp':  183.530521541}),\n",
      "    (81, {'label': 'Am7', 'timestamp':  186.874195011}),\n",
      "    (82, {'label': 'D7/F#', 'timestamp':  188.546031746}),\n",
      "    (83, {'label': 'Gmaj7', 'timestamp':  190.217868480}),\n",
      "    (84, {'label': 'Am7', 'timestamp':  193.561541950}),\n",
      "    (85, {'label': 'B7', 'timestamp':  195.233378684}),\n",
      "    (86, {'label': 'Gmaj7', 'timestamp':  197.090975056}),\n",
      "    (87, {'label': 'E', 'timestamp':  199.505850340}),\n",
      "    (88, {'label': 'Am7', 'timestamp':  200.341768707}),\n",
      "    (89, {'label': 'D7/F#', 'timestamp':  202.013605442}),\n",
      "    (90, {'label': 'Gmaj7', 'timestamp':  203.778321995}),\n",
      "    (91, {'label': 'Am7', 'timestamp':  207.029115646}),\n",
      "    (92, {'label': 'B7', 'timestamp':  208.793832199}),\n",
      "    (93, {'label': 'Em', 'timestamp':  210.465668934}),\n",
      "    (94, {'label': 'F#m7', 'timestamp':  213.809342403}),\n",
      "    (95, {'label': 'B7', 'timestamp':  215.481179138}),\n",
      "    (96, {'label': 'Em', 'timestamp':  217.153015873}),\n",
      "    (97, {'label': 'Am7', 'timestamp':  220.496689342}),\n",
      "    (98, {'label': 'D', 'timestamp':  222.261405895}),\n",
      "    (99, {'label': 'Gmaj7', 'timestamp':  223.561723356}),\n",
      "    (100, {'label': 'Am7', 'timestamp':  227.184036281}),\n",
      "    (101, {'label': 'B', 'timestamp':  228.855873015}),\n",
      "    (102, {'label': 'Gmaj7', 'timestamp':  232.199546485}),\n",
      "    (103, {'label': 'Am6', 'timestamp':  233.964263038}),\n",
      "    (104, {'label': 'B7', 'timestamp':  235.728979591}),\n",
      "    (105, {'label': 'Em', 'timestamp':  236.657777777}),\n",
      "    (106, {'label': 'Am', 'timestamp':  241.951927437}),\n",
      "    (107, {'label': 'D7/F#', 'timestamp':  243.902403628}),\n",
      "    (108, {'label': 'Gmaj7', 'timestamp':  245.574240362}),\n",
      "    (109, {'label': 'Am', 'timestamp':  249.103673469}),\n",
      "    (110, {'label': 'B7', 'timestamp':  250.682630385}),\n",
      "    (111, {'label': 'Gmaj7', 'timestamp':  252.354467120}),\n",
      "    (112, {'label': 'E', 'timestamp':  254.862222222}),\n",
      "    (113, {'label': 'Am', 'timestamp':  255.791020408}),\n",
      "    (114, {'label': 'D7', 'timestamp':  257.741496598}),\n",
      "    (115, {'label': 'Gmaj7', 'timestamp':  259.413333333}),\n",
      "    (116, {'label': 'Am6', 'timestamp':  262.849886621}),\n",
      "    (117, {'label': 'B7', 'timestamp':  264.614603174}),\n",
      "    (118, {'label': 'Em', 'timestamp':  266.379319727}),\n",
      "    (119, {'label': 'F#m7', 'timestamp':  269.537233560}),\n",
      "    (120, {'label': 'B7', 'timestamp':  271.209070294}),\n",
      "    (121, {'label': 'Em', 'timestamp':  272.880907029}),\n",
      "    (122, {'label': 'Am', 'timestamp':  276.224580498}),\n",
      "    (123, {'label': 'D7/F#', 'timestamp':  277.896417233}),\n",
      "    (124, {'label': 'Gmaj7', 'timestamp':  280.032653061}),\n",
      "    (125, {'label': 'F#aug', 'timestamp':  282.911927437}),\n",
      "    (126, {'label': 'Am', 'timestamp':  283.933605442}),\n",
      "    (127, {'label': 'B/F#', 'timestamp':  286.162721088}),\n",
      "    (128, {'label': 'Cdim', 'timestamp':  287.184399092}),\n",
      "    (129, {'label': 'Em', 'timestamp':  288.484716553}),\n",
      "    (130, {'label': 'Ebaug', 'timestamp':  289.599274376}),\n",
      "    (131, {'label': 'Gmaj7', 'timestamp':  290.528072562}),\n",
      "    (132, {'label': 'Am6', 'timestamp':  292.478548752}),\n",
      "    (133, {'label': 'B7', 'timestamp':  294.521904761}),\n",
      "    (134, {'label': 'Em', 'timestamp':  296.472380952}),\n",
      "    (135, {'label': 'D7/F#', 'timestamp':  301.209251700}),\n",
      "    (136, {'label': 'E/F#', 'timestamp':  305.760362811}),\n",
      "    (137, {'label': 'G6', 'timestamp':  307.432199546}),\n",
      "    (138, {'label': 'F#m7', 'timestamp':  311.426031746}),\n",
      "    (139, {'label': 'Cmaj7', 'timestamp':  313.469387755}),\n",
      "    (140, {'label': 'B7', 'timestamp':  314.119546485}),\n",
      "    (141, {'label': 'C#7', 'timestamp':  315.326984126}),\n",
      "    (142, {'label': 'Ebaug', 'timestamp':  316.162902494}),\n",
      "    (143, {'label': 'Em7', 'timestamp':  316.905941043}),\n",
      "    (144, {'label': 'F#', 'timestamp':  318.113378684}),\n",
      "    (145, {'label': 'G', 'timestamp':  318.949297052}),\n",
      "    (146, {'label': 'E', 'timestamp':  319.970975056}),\n",
      "    (147, {'label': 'Am7', 'timestamp':  320.899773242}),\n",
      "    (148, {'label': 'Abm7b5/Gb', 'timestamp':  324.336326530}),\n",
      "    (149, {'label': 'Gmaj7', 'timestamp':  327.494240362}),\n",
      "    (150, {'label': 'F#m7', 'timestamp':  328.423038548}),\n",
      "    (151, {'label': 'C', 'timestamp':  331.302312925}),\n",
      "    (152, {'label': 'Baug', 'timestamp':  331.859591836}),\n",
      "    (153, {'label': 'E', 'timestamp':  333.531428571}),\n",
      "    (154, {'label': 'F#', 'timestamp':  335.017505668}),\n",
      "    (155, {'label': 'G6', 'timestamp':  335.946303854}),\n",
      "    (156, {'label': 'A6', 'timestamp':  337.525260770}),\n",
      "    (157, {'label': 'B', 'timestamp':  340.125895691}),\n",
      "    (158, {'label': 'Em', 'timestamp':  342.355011337}),\n",
      "    (159, {'label': 'C6', 'timestamp':  347.184761904}),\n",
      "    (160, {'label': 'D7/F#', 'timestamp':  349.785396825}),\n",
      "    (161, {'label': 'Gmaj7', 'timestamp':  351.921632653}),\n",
      "    (162, {'label': 'Cmaj7', 'timestamp':  355.265306122}),\n",
      "    (163, {'label': 'Am', 'timestamp':  356.101224489}),\n",
      "    (164, {'label': 'Bmaj7', 'timestamp':  358.423219954}),\n",
      "    (165, {'label': 'F#dim', 'timestamp':  359.352018140}),\n",
      "    (166, {'label': 'B', 'timestamp':  360.745215419}),\n",
      "    (167, {'label': 'C#7', 'timestamp':  363.160090702}),\n",
      "    (168, {'label': 'C6', 'timestamp':  364.646167800}),\n",
      "    (169, {'label': 'A6', 'timestamp':  366.225124716}),\n",
      "    (170, {'label': 'B', 'timestamp':  367.525442176}),\n",
      "    (171, {'label': 'G', 'timestamp':  369.104399092}),\n",
      "    (172, {'label': 'E', 'timestamp':  371.147755102}),\n",
      "    (173, {'label': 'F#7', 'timestamp':  373.283990929}),\n",
      "    (174, {'label': 'Em', 'timestamp':  373.748390022}),\n",
      "    (175, {'label': 'F#', 'timestamp':  378.578140589}),\n",
      "    (176, {'label': 'Am7', 'timestamp':  379.321179138}),\n",
      "    (177, {'label': 'D/A', 'timestamp':  381.271655328}),\n",
      "    (178, {'label': 'D6', 'timestamp':  383.222131519}),\n",
      "    (179, {'label': 'Cmaj7', 'timestamp':  386.101405895}),\n",
      "    (180, {'label': 'G', 'timestamp':  387.494603174}),\n",
      "    (181, {'label': 'Am7', 'timestamp':  388.887800453}),\n",
      "    (182, {'label': 'B7', 'timestamp':  392.417233560}),\n",
      "    (183, {'label': 'Gmaj7', 'timestamp':  394.646349206}),\n",
      "    (184, {'label': 'Em', 'timestamp':  397.990022675}),\n",
      "    (185, {'label': 'E/B', 'timestamp':  405.420408163}),\n",
      "    (186, {'label': 'N', 'timestamp':  420.931337868})]\n"
     ]
    }
   ],
   "source": [
    "song_analysis = vamp.collect(song[0], song[1], \"nnls-chroma:chordino\")['list']\n",
    "pprint(list(enumerate(song_analysis)))"
   ]
  },
  {
   "cell_type": "code",
   "execution_count": 9,
   "metadata": {},
   "outputs": [],
   "source": [
    "ENCR_NOTES = {'C':0, 'C#':1, 'Db':1, 'D':2, 'D#':3, 'Eb':3, 'E':4, 'Fb':4, 'E#':5, 'F':5, 'F#':6, 'Gb':6, 'G':7, 'G#':8, 'Ab':8, 'A':9, 'A#':10, 'Bb':10, 'B':11, 'Cb':11, 'B#':0}\n",
    "\n",
    "DECR_FLAT_NOTES = ['C', 'Db', 'D', 'Eb', 'E', 'F', 'Gb', 'G', 'Ab', 'A', 'Bb', 'B']\n",
    "DECR_SHARP_NOTES = ['C', 'C#', 'D', 'D#', 'E', 'F', 'F#', 'G', 'G#', 'A', 'A#', 'B']\n",
    "DECR_NOTES_PAIRS = [('C'), ('Db', 'C#'), ('D'), ('Eb', 'D#'), ('E'), ('F'), ('Gb', 'F#'), ('G'), ('Ab', 'G#'), 'A', ('Bb', 'A#'), ('B')]"
   ]
  },
  {
   "cell_type": "markdown",
   "metadata": {},
   "source": [
    "## Parse chords:"
   ]
  },
  {
   "cell_type": "code",
   "execution_count": 10,
   "metadata": {},
   "outputs": [],
   "source": [
    "def extract_root(chord):\n",
    "    root = chord[:2] if (len(chord) > 1 and chord[1] in ['b', '#']) else chord[0]\n",
    "    if root ==\"N\":\n",
    "        return\n",
    "    beginning_next_token = len(root)\n",
    "    if root[0] in ['A', 'B', 'C', 'D', 'E', 'F', 'G']:\n",
    "        return root, chord[beginning_next_token:]\n",
    "    else:\n",
    "        raise Exception(\"This chord doesn't have a root note.\")"
   ]
  },
  {
   "cell_type": "code",
   "execution_count": 11,
   "metadata": {},
   "outputs": [],
   "source": [
    "def extract_third_mod(piece_chord):\n",
    "    third = \"major\"\n",
    "    length_token = 0\n",
    "    if piece_chord:\n",
    "        if piece_chord[0] == 'm' and piece_chord[:3] != \"maj\":\n",
    "            third = 'minor'\n",
    "            length_token = 1\n",
    "        elif piece_chord[:3] == \"sus\":\n",
    "            third = piece_chord[: 4]\n",
    "            length_token = 4\n",
    "    return third, piece_chord[length_token:]"
   ]
  },
  {
   "cell_type": "code",
   "execution_count": 12,
   "metadata": {},
   "outputs": [],
   "source": [
    "def extract_fifth_mod(piece_chord):\n",
    "    fifth = \"perfect\"\n",
    "    length_token = 0\n",
    "    if piece_chord and piece_chord[:3] in [\"dim\", \"aug\"]:\n",
    "        fifth = piece_chord[:3]\n",
    "        length_token = 3\n",
    "    return fifth, piece_chord[length_token:]"
   ]
  },
  {
   "cell_type": "code",
   "execution_count": 13,
   "metadata": {},
   "outputs": [
    {
     "data": {
      "text/plain": [
       "('perfect', 'maj7b10/G#')"
      ]
     },
     "execution_count": 13,
     "metadata": {},
     "output_type": "execute_result"
    }
   ],
   "source": [
    "extract_fifth_mod('maj7b10/G#')"
   ]
  },
  {
   "cell_type": "code",
   "execution_count": 14,
   "metadata": {},
   "outputs": [],
   "source": [
    "def extract_bass(root, piece_chord):\n",
    "    bass_regex = re.compile(r\"\\/([A-G](?:#|b)?)$\")\n",
    "    bass_specification = re.findall(bass_regex, piece_chord)\n",
    "    if bass_specification:\n",
    "        bass = bass_specification[0]\n",
    "        rest =  piece_chord[: -(len(bass) + 1)]\n",
    "    else:\n",
    "        bass = root\n",
    "        rest = piece_chord\n",
    "    return bass, rest"
   ]
  },
  {
   "cell_type": "code",
   "execution_count": 15,
   "metadata": {},
   "outputs": [
    {
     "data": {
      "text/plain": [
       "('G#', 'sus2maj7b10')"
      ]
     },
     "execution_count": 15,
     "metadata": {},
     "output_type": "execute_result"
    }
   ],
   "source": [
    "extract_bass(\"D\",\"sus2maj7b10/G#\")"
   ]
  },
  {
   "cell_type": "code",
   "execution_count": 16,
   "metadata": {},
   "outputs": [],
   "source": [
    "def extract_seventh_mod(piece_chord):\n",
    "    seventh = None \n",
    "    re_others = re.compile(r\"(?:maj)?(?:7)\")\n",
    "    seventh = re.findall(re_others, piece_chord)\n",
    "    meaning_abbreviations = {\"maj7\" : \"major\", \"7\" : \"minor\"}\n",
    "    if seventh:\n",
    "        return meaning_abbreviations[seventh[0]]\n",
    "    else:\n",
    "        return\n",
    "    "
   ]
  },
  {
   "cell_type": "code",
   "execution_count": 17,
   "metadata": {},
   "outputs": [
    {
     "data": {
      "text/plain": [
       "'major'"
      ]
     },
     "execution_count": 17,
     "metadata": {},
     "output_type": "execute_result"
    }
   ],
   "source": [
    "extract_seventh_mod(\"bamaj7b10/G#\")"
   ]
  },
  {
   "cell_type": "code",
   "execution_count": 18,
   "metadata": {},
   "outputs": [],
   "source": [
    "def get_notes(chord):\n",
    "    seminotes_third = {\"major\" : 4, \"minor\" : 3, \"sus2\" : 2, \"sus4\" : 5}\n",
    "    seminotes_fifth = {\"perfect\" : 7, \"dim\" : 6, \"aug\" : 8}\n",
    "    seminotes_seventh = {\"major\" : 11, \"minor\" : 10}\n",
    "    root, rest = extract_root(chord)\n",
    "    third_mod, rest = extract_third_mod(rest)\n",
    "    fifth_mod, rest = extract_fifth_mod(rest)\n",
    "    bass, rest = extract_bass(root, rest)\n",
    "    seventh_mod = extract_seventh_mod(rest)\n",
    "    notes = {ENCR_NOTES[root], (ENCR_NOTES[root] + seminotes_third[third_mod]) % 12, (ENCR_NOTES[root] + seminotes_fifth[fifth_mod]) % 12}\n",
    "    if bass:\n",
    "        notes.add(ENCR_NOTES[bass])\n",
    "    if seventh_mod:\n",
    "        notes.add(((ENCR_NOTES[root] + seminotes_seventh[seventh_mod])) % 12)\n",
    "    return notes"
   ]
  },
  {
   "cell_type": "code",
   "execution_count": 19,
   "metadata": {},
   "outputs": [
    {
     "data": {
      "text/plain": [
       "{1, 5, 9, 10}"
      ]
     },
     "execution_count": 19,
     "metadata": {},
     "output_type": "execute_result"
    }
   ],
   "source": [
    "get_notes(\"Bbmmaj7\")"
   ]
  },
  {
   "cell_type": "code",
   "execution_count": 20,
   "metadata": {},
   "outputs": [],
   "source": [
    "def get_major_scale(root):\n",
    "    return (map(lambda rel_note: (root + rel_note) % 12, [0, 2 ,4 ,5 ,7 ,9, 11]))"
   ]
  },
  {
   "cell_type": "code",
   "execution_count": 21,
   "metadata": {},
   "outputs": [],
   "source": [
    "MAJOR_SCALES = {tuple(get_major_scale(ENCR_NOTES[root])) : root for root in ENCR_NOTES.keys()}"
   ]
  },
  {
   "cell_type": "code",
   "execution_count": null,
   "metadata": {},
   "outputs": [],
   "source": []
  },
  {
   "cell_type": "code",
   "execution_count": 22,
   "metadata": {},
   "outputs": [],
   "source": [
    "# #parameter: chord after removing root and maybe third and fifth specification and bass note\n",
    "# def get_rel_seventh_and_others(piece_chord):\n",
    "#     seminotes_from_root = {\"major\" : 12, \"minor\" : 11}\n",
    "#     seventh = \"minor\"\n",
    "#     length_token = 0\n",
    "#     re_others = re.compile(r\"(maj|b)([1-9]?[0-9])\")\n",
    "#     extra_notes = re.findall(re_others, piece_chord)\n",
    "    \n",
    "#     pointer += sum(map((lambda extra : len(extra)), parsed[\"extra_notes\"]))\n",
    "    \n",
    "    \n",
    "    \n",
    "#     if piece_chord and piece_chord[:3] == \"maj\":\n",
    "#         if piece_chord[:3] == \"maj7\":\n",
    "#             seventh = \"major\"\n",
    "#             length_token = 4\n",
    "        "
   ]
  },
  {
   "cell_type": "code",
   "execution_count": 25,
   "metadata": {},
   "outputs": [
    {
     "data": {
      "text/plain": [
       "('Bb', 'mmaj7')"
      ]
     },
     "execution_count": 25,
     "metadata": {},
     "output_type": "execute_result"
    }
   ],
   "source": [
    "extract_root(\"Bbmmaj7\")"
   ]
  },
  {
   "cell_type": "code",
   "execution_count": 26,
   "metadata": {},
   "outputs": [
    {
     "data": {
      "text/plain": [
       "('minor', 'maj7')"
      ]
     },
     "execution_count": 26,
     "metadata": {},
     "output_type": "execute_result"
    }
   ],
   "source": [
    "extract_third_mod('mmaj7')"
   ]
  },
  {
   "cell_type": "code",
   "execution_count": 27,
   "metadata": {},
   "outputs": [
    {
     "data": {
      "text/plain": [
       "('aug', 'maj7')"
      ]
     },
     "execution_count": 27,
     "metadata": {},
     "output_type": "execute_result"
    }
   ],
   "source": [
    "extract_fifth_mod('augmaj7')"
   ]
  },
  {
   "cell_type": "code",
   "execution_count": 28,
   "metadata": {},
   "outputs": [],
   "source": [
    "def chord_arithmetics(parsed_chord):\n",
    "    root = ENCR_NOTES.get(parsed_chord[\"root\"])\n",
    "    if not root:\n",
    "        print(\"something is \")"
   ]
  },
  {
   "cell_type": "code",
   "execution_count": 29,
   "metadata": {},
   "outputs": [],
   "source": [
    "def extend_short_rec(short_rec, desired_num_samples, desired_vol):\n",
    "    bounds = [1113687, 1148687] #FIXME\n",
    "    current_vol = max(short_rec[0])\n",
    "    \n",
    "    sample = last_not_0_before_par(short_rec, bounds[1])\n",
    "    for _ in range(50):\n",
    "        sample = sign_change(short_rec, sample-1)\n",
    "    end_copy = sample\n",
    "\n",
    "    for _ in range(1000):\n",
    "        sample = sign_change(short_rec, sample-1)\n",
    "    beginning_copy = sample\n",
    "\n",
    "    extension = short_rec[0][bounds[0]:end_copy]\n",
    "    while len(extension) < desired_num_samples:\n",
    "        extension = np.concatenate((extension, short_rec[0][beginning_copy:end_copy]))\n",
    "        \n",
    "    extension = extension/current_vol*desired_vol\n",
    "    \n",
    "    return extension[:desired_num_samples]"
   ]
  },
  {
   "cell_type": "code",
   "execution_count": 30,
   "metadata": {},
   "outputs": [],
   "source": [
    "def cow_generator(amp, rate):\n",
    "    if rate != cow[1]:\n",
    "        return False\n",
    "    def f(num_samples):\n",
    "        return extend_short_rec(cow, num_samples, amp)\n",
    "    return f "
   ]
  },
  {
   "cell_type": "code",
   "execution_count": 31,
   "metadata": {},
   "outputs": [],
   "source": [
    "def last_not_0_before_par(rec, par):\n",
    "    ind = par\n",
    "    while rec[0][ind] == 0:\n",
    "        ind -= 1\n",
    "    return ind\n",
    "\n",
    "def first_0_before_par(rec, par):\n",
    "    ind = par\n",
    "    while rec[0][ind] != 0:\n",
    "        ind -= 1\n",
    "    return ind\n",
    "\n",
    "def sign_change(rec, par):\n",
    "    ind = par\n",
    "    while rec[0][ind] * rec[0][par] > 0:\n",
    "        ind -= 1\n",
    "    return ind"
   ]
  },
  {
   "cell_type": "code",
   "execution_count": 32,
   "metadata": {},
   "outputs": [],
   "source": [
    "def note_by_num_samples(freq, num_samples, amp=1, rate=song[1]):\n",
    "    data = np.array([np.sin(2*np.pi*freq*librosa.samples_to_time(sample, rate))*amp for sample in range(num_samples)], dtype=np.float32)\n",
    "    return data"
   ]
  },
  {
   "cell_type": "code",
   "execution_count": 33,
   "metadata": {},
   "outputs": [],
   "source": [
    "def synth_generator(freq, amp, rate):\n",
    "    def f(num_samples):\n",
    "        return note_by_num_samples(freq, num_samples, amp, rate)\n",
    "    return f"
   ]
  },
  {
   "cell_type": "code",
   "execution_count": 34,
   "metadata": {},
   "outputs": [],
   "source": [
    "scale_deg_in_semitones = {1:0, 2:2, 3:4, 4:5, 5:7, 6:9, 7:11}"
   ]
  },
  {
   "cell_type": "code",
   "execution_count": 35,
   "metadata": {},
   "outputs": [],
   "source": [
    "#given a tonality and a scale degree, find the chord corresponding to the scale degree in the given tonality\n",
    "def absolute_chord(tonality, scale_deg):\n",
    "    encr_chord = (ENCR_NOTES[tonality] + scale_deg_in_semitones[scale_deg]) % 12\n",
    "    if len(tonality) > 1 and tonality[1] == 'b':\n",
    "        chord = DECR_FLAT_NOTES[encr_chord]\n",
    "    else:\n",
    "        chord = DECR_SHARP_NOTES[encr_chord]\n",
    "    return chord"
   ]
  },
  {
   "cell_type": "code",
   "execution_count": 36,
   "metadata": {},
   "outputs": [],
   "source": [
    "bass_freq = {'C':65.41, 'C#':69.30, 'D':73.42, 'D#':77.78, 'E':82.41, 'F':87.31, 'F#':92.50, 'G':98.00, 'G#':103.83, 'A':110.00, 'A#':116.54, 'B':123.47}\n",
    "high_pitch_freq = {'C':130.81, 'C#':138.59, 'D':146.83, 'D#':155.56, 'E':164.81, 'F':174.61, 'F#':185.00, 'G':196.00, 'G#':207.65, 'A':220.00, 'A#':233.08, 'B':246.94}"
   ]
  },
  {
   "cell_type": "code",
   "execution_count": 37,
   "metadata": {},
   "outputs": [],
   "source": [
    "def find_bounds_samples(song_analysis, chord):\n",
    "    #bounds_chord = [librosa.time_to_samples(t, song[1]) for t in timestamps_chord]\n",
    "\n",
    "    pairs = list(zip(song_analysis[:-1], song_analysis[1:]))\n",
    "    time_bounds = [(float(item1['timestamp']), float(item2['timestamp'])) for item1, item2 in pairs if re.match(re.escape(chord)+r'.*', item1['label'])]\n",
    "    bounds = [librosa.time_to_samples(t, song[1])for t in time_bounds]\n",
    "    return bounds"
   ]
  },
  {
   "cell_type": "code",
   "execution_count": 38,
   "metadata": {},
   "outputs": [],
   "source": [
    "def find_amplitude_rel_song(song, strength):\n",
    "    song_intensity = max(song[0])\n",
    "    return song_intensity*strength"
   ]
  },
  {
   "cell_type": "code",
   "execution_count": 39,
   "metadata": {},
   "outputs": [],
   "source": [
    "def generate_audio_to_add(song_analysis, song_length, chord, timber, amp, rate):\n",
    "    if timber == 'cow':\n",
    "        note_generator = cow_generator(amp, rate)\n",
    "        if not note_generator:\n",
    "            'Sorry, the cow is tired of mooing. Please, choose a different timber!'\n",
    "    else:\n",
    "        if timber == 'low_pitch_synth':\n",
    "            freq = bass_freq[chord]\n",
    "        else:\n",
    "            freq = high_pitch_freq[chord]\n",
    "        note_generator = synth_generator(freq, amp, rate)\n",
    "    \n",
    "    bounds_chord = find_bounds_samples(song_analysis, chord)\n",
    "    add_to_song = np.zeros(song_length)\n",
    "    for beginning, end in bounds_chord:\n",
    "        if end > song_length:\n",
    "            end = song_length\n",
    "        add = note_generator(end - beginning)\n",
    "        add_to_song[beginning:end] = add\n",
    "        \n",
    "    return add_to_song"
   ]
  },
  {
   "cell_type": "code",
   "execution_count": 40,
   "metadata": {},
   "outputs": [],
   "source": [
    "def get_tonality_from_dominant(dominant):\n",
    "    if len(dominant) > 1 and dominant[1] == 'b':\n",
    "        decr = DECR_FLAT_NOTES\n",
    "    else:\n",
    "        decr = DECR_SHARP_NOTES\n",
    "    arithm_repr_root = ( ENCR_NOTES[dominant] - 7 ) % 12\n",
    "    return decr[arithm_repr_root]"
   ]
  },
  {
   "cell_type": "code",
   "execution_count": 47,
   "metadata": {},
   "outputs": [],
   "source": [
    "def find_tonality(song_analysis):\n",
    "    #look for a dominant chord: TO DO\n",
    "    \n",
    "    #find last chord\n",
    "    last_chord_index = -1\n",
    "    while song_analysis[last_chord_index]['label'] == 'N':\n",
    "        last_chord_index -= 1\n",
    "    last_chord = song_analysis[last_chord_index]['label']\n",
    "    last_root = extract_root(last_chord)[0]\n",
    "    \n",
    "    return last_root\n",
    "    \n",
    "    # find the chord that is played the most\n",
    "    roots_info = [extract_root(chord['label']) for chord in song_analysis if extract_root(chord['label'])]\n",
    "    roots = [root for root, _ in roots_info]\n",
    "    numb_appearance_root = collections.Counter(roots)\n",
    "    most_appearing_root = numb_appearance_root.most_common(1)[0][0]\n",
    "    \n",
    "    \n",
    "    #find tonality via dominant7 chords:\n",
    "    maj_dominant7_chords = {root for root, rest in roots_info if extract_third_mod(rest)[0] == \"major\" and extract_seventh_mod(rest) == \"minor\"}\n",
    "    potential_min_dominant7_chords = {root for root, rest in roots_info if extract_third_mod(rest)[0] == \"minor\" and extract_seventh_mod(rest) == \"minor\"}\n",
    "\n",
    "    tonalities = {}\n",
    "    if maj_dominant7_chords:\n",
    "        tonalities = {get_tonality_from_dominant(dominant) for dominant in maj_dominant7_chords if get_tonality_from_dominant(dominant) in roots}\n",
    "    return tonalities\n",
    "    #find possible scales:\n",
    "    index = 0\n",
    "    while song_analysis[index]['label'] == 'N':\n",
    "        index += 1\n",
    "    first_chord = song_analysis[index]['label']\n",
    "    old_possible_scales = new_possible_scales = {scale : root for scale, root in MAJOR_SCALES.items() if get_notes(first_chord).issubset({note for note in scale})}\n",
    "    \n",
    "    while index < len(song_analysis) and new_possible_scales:\n",
    "        index += 1\n",
    "        chord = song_analysis[index]['label']\n",
    "        if chord == 'N':\n",
    "            continue\n",
    "        old_possible_scales = new_possible_scales\n",
    "        new_possible_scales = {scale : root for scale, root in old_possible_scales.items() if get_notes(chord).issubset({note for note in scale})}\n",
    "    #return old_possible_scales, index\n",
    "    \n",
    "\n",
    "        \n",
    "\n",
    "#     sign = ''\n",
    "#     if len(most_appearing_chord) > 1:\n",
    "#         if most_appearing_chord[1] == '#' or most_appearing_chord[1] == 'b':\n",
    "#             sign = most_appearing_chord[1]\n",
    "\n",
    "#     tonality = most_appearing_chord[0] + sign\n",
    "    tonality = most_appearing_root\n",
    "    \n",
    "#     certainty = True\n",
    "#     if last_chord != most_appearing_chord:\n",
    "#         certeinty = False\n",
    "        \n",
    "    return "
   ]
  },
  {
   "cell_type": "code",
   "execution_count": 42,
   "metadata": {},
   "outputs": [
    {
     "name": "stdout",
     "output_type": "stream",
     "text": [
      "7\n"
     ]
    }
   ],
   "source": [
    "roots_info = [extract_root(chord['label']) for chord in song_analysis if extract_root(chord['label'])]\n",
    "rest = roots_info[5][1]\n",
    "print(rest)\n",
    "\n"
   ]
  },
  {
   "cell_type": "code",
   "execution_count": 43,
   "metadata": {},
   "outputs": [
    {
     "data": {
      "text/plain": [
       "{'B', 'E', 'F#', 'G'}"
      ]
     },
     "execution_count": 43,
     "metadata": {},
     "output_type": "execute_result"
    }
   ],
   "source": [
    "find_tonality(song_analysis)"
   ]
  },
  {
   "cell_type": "code",
   "execution_count": 44,
   "metadata": {},
   "outputs": [
    {
     "name": "stdout",
     "output_type": "stream",
     "text": [
      "{'E', 'B', 'F#', 'G'}\n"
     ]
    }
   ],
   "source": [
    "maj_dominant7_chords = {'B', 'C#', 'D', 'F#'}\n",
    "print({get_tonality_from_dominant(dominant) for dominant in maj_dominant7_chords})"
   ]
  },
  {
   "cell_type": "code",
   "execution_count": 48,
   "metadata": {},
   "outputs": [],
   "source": [
    "scale_deg = 1 # 1,2,3,4,5,6 or 7\n",
    "timber = 'high_pitch_synth' # 'low_pitch_synth', 'high_pitch_synth' or 'cow'\n",
    "amp = 1 #1/4, 1/2, 1, 2 \n",
    "\n",
    "tonality = find_tonality(song_analysis)\n",
    "# if not certainty:\n",
    "#     print('The tonality is probably wrong, sorry for that!')\n",
    "\n",
    "chord = absolute_chord(tonality, scale_deg)\n",
    "length = len(song[0])\n",
    "to_add = generate_audio_to_add(song_analysis, length, chord, timber, amp, song[1])\n",
    "\n"
   ]
  },
  {
   "cell_type": "code",
   "execution_count": 46,
   "metadata": {
    "scrolled": false
   },
   "outputs": [
    {
     "ename": "NameError",
     "evalue": "name 'to_add' is not defined",
     "output_type": "error",
     "traceback": [
      "\u001b[0;31m---------------------------------------------------------------------------\u001b[0m",
      "\u001b[0;31mNameError\u001b[0m                                 Traceback (most recent call last)",
      "\u001b[0;32m<ipython-input-46-b2bc73926330>\u001b[0m in \u001b[0;36m<module>\u001b[0;34m\u001b[0m\n\u001b[0;32m----> 1\u001b[0;31m \u001b[0moutput\u001b[0m \u001b[0;34m=\u001b[0m \u001b[0msong\u001b[0m\u001b[0;34m[\u001b[0m\u001b[0;36m0\u001b[0m\u001b[0;34m]\u001b[0m \u001b[0;34m+\u001b[0m \u001b[0mto_add\u001b[0m\u001b[0;34m\u001b[0m\u001b[0m\n\u001b[0m\u001b[1;32m      2\u001b[0m \u001b[0mprint\u001b[0m\u001b[0;34m(\u001b[0m\u001b[0mlen\u001b[0m\u001b[0;34m(\u001b[0m\u001b[0mto_add\u001b[0m\u001b[0;34m)\u001b[0m\u001b[0;34m)\u001b[0m\u001b[0;34m\u001b[0m\u001b[0m\n\u001b[1;32m      3\u001b[0m \u001b[0mprint\u001b[0m\u001b[0;34m(\u001b[0m\u001b[0mlen\u001b[0m\u001b[0;34m(\u001b[0m\u001b[0msong\u001b[0m\u001b[0;34m[\u001b[0m\u001b[0;36m0\u001b[0m\u001b[0;34m]\u001b[0m\u001b[0;34m)\u001b[0m\u001b[0;34m)\u001b[0m\u001b[0;34m\u001b[0m\u001b[0m\n\u001b[1;32m      4\u001b[0m \u001b[0mprint\u001b[0m\u001b[0;34m(\u001b[0m\u001b[0mtonality\u001b[0m\u001b[0;34m)\u001b[0m\u001b[0;34m\u001b[0m\u001b[0m\n\u001b[1;32m      5\u001b[0m \u001b[0mbounds\u001b[0m \u001b[0;34m=\u001b[0m \u001b[0mfind_bounds_samples\u001b[0m\u001b[0;34m(\u001b[0m\u001b[0msong_analysis\u001b[0m\u001b[0;34m,\u001b[0m \u001b[0mtonality\u001b[0m\u001b[0;34m)\u001b[0m\u001b[0;34m\u001b[0m\u001b[0m\n",
      "\u001b[0;31mNameError\u001b[0m: name 'to_add' is not defined"
     ]
    }
   ],
   "source": [
    "output = song[0] + to_add\n",
    "print(len(to_add))\n",
    "print(len(song[0]))\n",
    "print(tonality)\n",
    "bounds = find_bounds_samples(song_analysis, tonality)\n",
    "beginning, end = bounds[4]\n",
    "ipd.Audio(output, rate=song[1])"
   ]
  },
  {
   "cell_type": "code",
   "execution_count": null,
   "metadata": {},
   "outputs": [],
   "source": [
    "output = song[0] + to_add\n",
    "print(len(to_add))\n",
    "print(len(song[0]))\n",
    "print(tonality)\n",
    "bounds = find_bounds_samples(song_analysis, tonality)\n",
    "beginning, end = bounds[4]\n",
    "ipd.Audio(output, rate=song[1])"
   ]
  },
  {
   "cell_type": "markdown",
   "metadata": {},
   "source": [
    "The rest is not necessary anymore"
   ]
  },
  {
   "cell_type": "code",
   "execution_count": null,
   "metadata": {},
   "outputs": [],
   "source": [
    "#HAS TO BE RUN FOR EVERY SONG\n",
    "#Compute the chord that corresponds to a certain scale degree:\n",
    "scale_degree = 1\n",
    "chord = notes_sharp_medium_pitch[(ENCR_NOTES[tonality] + scale_degree_in_semitones[scale_degree]) % 12]\n",
    "print(chord)"
   ]
  },
  {
   "cell_type": "code",
   "execution_count": null,
   "metadata": {},
   "outputs": [],
   "source": [
    "#HAS TO BE RUN FOR EVERY SONG\n",
    "#Find the time stamps in between which the chord corresponding to the chosen scale degree appears in the song:\n",
    "chord_pairs = list(zip(chords[:-1], chords[1:]))\n",
    "timestamps_chord = [ (float(c[0]['timestamp']), float(c[1]['timestamp'])) for c in chord_pairs if re.match(re.escape(chord[0])+r'.*', c[0]['label'])]\n",
    "bounds_chord = [librosa.time_to_samples(t, song[1]) for t in timestamps_chord]\n",
    "lables_chord = [c[0]['label'] for c in chord_pairs if re.match(re.escape(chord[0])+r'.*', c[0]['label'])]\n",
    "\n",
    "#chord_number = 2\n",
    "#print(lables_chord[chord_number])\n",
    "#ipd.Audio(song[0][bounds_chord[chord_number][0]:bounds_chord[chord_number][1]], rate=song[1])\n"
   ]
  },
  {
   "cell_type": "code",
   "execution_count": null,
   "metadata": {},
   "outputs": [],
   "source": [
    "#Has TO BE TUN FOR EVERY SONG\n",
    "#Compute highest amplitude in the song:\n",
    "max_amplitude = max(song[0])\n",
    "print(max_amplitude)"
   ]
  },
  {
   "cell_type": "code",
   "execution_count": null,
   "metadata": {},
   "outputs": [],
   "source": [
    "#HAS TO BE RUN FOR EVERY SONG\n",
    "#Generate the output (audio of song plus the base note of the chord corresponding to the scale degree chosen every time that chord appears):\n",
    "add_to_song = np.zeros(len(song[0]))\n",
    "for beginning, end in bounds_chord:\n",
    "    if end > len(song[0]):\n",
    "        end = len(song[0])\n",
    "    add = note_by_num_samples(chord[1] , end-beginning, amp=(max_amplitude)*5)\n",
    "    add_to_song[beginning:end] = add\n",
    "    \n",
    "output = song[0] + add_to_song\n",
    "ipd.Audio(output, rate=song[1])"
   ]
  },
  {
   "cell_type": "code",
   "execution_count": null,
   "metadata": {},
   "outputs": [],
   "source": [
    "add_cow = np.zeros(len(song[0]))\n",
    "max_num_samples = max([end-beginning for beginning, end in bounds_chord])\n",
    "long_cow = long_enough_ignoring_frequencies(max_num_samples)\n",
    "for beginning, end in bounds_chord:\n",
    "    if end > len(song[0]):\n",
    "        end = len(song[0])\n",
    "    add = long_cow[:(end-beginning)]\n",
    "    add_cow[beginning:end] = add\n",
    "\n",
    "output = song[0] + add_cow\n",
    "ipd.Audio(output, rate=song[1])"
   ]
  },
  {
   "cell_type": "code",
   "execution_count": null,
   "metadata": {},
   "outputs": [],
   "source": [
    "#Generate the output (audio of song plus the base note of the chord corresponding to the scale degree chosen every time that chord appears):\n",
    "add_to_song = np.zeros(len(song[0]))\n",
    "for beginning, end in bounds_chord:\n",
    "    if end > len(song[0]):\n",
    "        end = len(song[0])\n",
    "    add = note_by_num_samples(chord[1] , end-beginning, amp=max_amplitude)\n",
    "    add_to_song[beginning:end] = add\n",
    "    \n",
    "output = song[0] + add_to_song\n",
    "ipd.Audio(output, rate=song[1])"
   ]
  },
  {
   "cell_type": "code",
   "execution_count": null,
   "metadata": {},
   "outputs": [],
   "source": [
    "#computations for for getting the bounds of the cow sample between which the cow moos\n",
    "cow_chords = vamp.collect(cow[0], cow[1], \"nnls-chroma:chordino\")['list']\n",
    "label = 'N'\n",
    "ind = 0\n",
    "while label == 'N':\n",
    "    ind += 1\n",
    "    label = cow_chords[ind]['label']\n",
    "beginning_ind = ind\n",
    "print(beginning_ind)\n",
    "while label != 'N':\n",
    "    ind += 1\n",
    "    label = cow_chords[ind]['label']\n",
    "end_ind = ind - 1\n",
    "print(end_ind)\n",
    "\n",
    "timestamps_cow = [float(cow_chords[beginning_ind]['timestamp']), float(cow_chords[2]['timestamp'])]\n",
    "bounds_cow = [librosa.time_to_samples(t, cow[1]) for t in timestamps_cow]\n",
    "\n",
    "bounds_cow[0]=bounds_cow[0]-25000\n",
    "bounds_cow[1]=bounds_cow[0]+35000\n",
    "print(bounds_cow)\n",
    "cow_in_F = cow[0][bounds_cow[0]:bounds_cow[1]]\n",
    "ipd.Audio(cow_in_F, rate=cow[1])"
   ]
  },
  {
   "cell_type": "code",
   "execution_count": null,
   "metadata": {},
   "outputs": [],
   "source": [
    "#for cow\n",
    "last_int_sample = last_not_0_before_par(bounds_cow[1])\n",
    "sample = last_int_sample\n",
    "for _  in range(50):\n",
    "    sample = sign_change(sample-1)\n",
    "last_sample_extension = sample\n",
    "\n",
    "for _  in range(1000):\n",
    "    sample = sign_change(sample-1)\n",
    "first_sample_extension = sample\n",
    "    \n",
    "#first_sample_extension = sample\n",
    "print(last_int_sample)\n",
    "print(first_sample_extension)\n",
    "\n",
    "long_sample_cow = cow[0][bounds_cow[0]:bounds_cow[1]]\n",
    "for _ in range(10):\n",
    "    long_sample_cow = np.concatenate((long_sample_cow, cow[0][first_sample_extension:last_sample_extension]))\n",
    "print(len(long_sample_cow))\n",
    "ipd.Audio(long_sample_cow, rate=cow[1])"
   ]
  },
  {
   "cell_type": "code",
   "execution_count": null,
   "metadata": {},
   "outputs": [],
   "source": [
    "#for cow\n",
    "def long_enough_ignoring_frequencies(num_samples):\n",
    "    output = cow[0][bounds_cow[0]:bounds_cow[1]]\n",
    "    while len(output) < num_samples:\n",
    "        output = np.concatenate((output, cow[0][first_sample_extension:last_sample_extension]))\n",
    "    return output"
   ]
  }
 ],
 "metadata": {
  "kernelspec": {
   "display_name": "Python (ear_trainer)",
   "language": "python",
   "name": "ear_trainer"
  },
  "language_info": {
   "codemirror_mode": {
    "name": "ipython",
    "version": 3
   },
   "file_extension": ".py",
   "mimetype": "text/x-python",
   "name": "python",
   "nbconvert_exporter": "python",
   "pygments_lexer": "ipython3",
   "version": "3.6.6"
  }
 },
 "nbformat": 4,
 "nbformat_minor": 2
}
