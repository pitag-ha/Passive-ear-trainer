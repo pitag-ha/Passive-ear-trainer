{
 "cells": [
  {
   "cell_type": "code",
   "execution_count": null,
   "metadata": {},
   "outputs": [],
   "source": [
    "%matplotlib inline\n",
    "import librosa, librosa.display\n",
    "import IPython.display as ipd\n",
    "import vamp\n",
    "import matplotlib.pyplot as plt\n",
    "import numpy as np\n",
    "import scipy.fftpack as fft"
   ]
  },
  {
   "cell_type": "code",
   "execution_count": null,
   "metadata": {},
   "outputs": [],
   "source": [
    "import pprint\n",
    "pp = pprint.PrettyPrinter(indent=4)\n",
    "pprint = pp.pprint"
   ]
  },
  {
   "cell_type": "code",
   "execution_count": null,
   "metadata": {},
   "outputs": [],
   "source": [
    "beatles_live = librosa.load('/home/sonja/Dropbox/RC/Passive ear trainer/Jupyter/Beatles - I wanna hold your hand - live.m4a')\n",
    "beatles = librosa.load('/home/sonja/Dropbox/RC/Passive ear trainer/Jupyter/Beatles - I wanna hold your hand -studio.m4a')"
   ]
  },
  {
   "cell_type": "code",
   "execution_count": null,
   "metadata": {},
   "outputs": [],
   "source": [
    "beatles[0].shape"
   ]
  },
  {
   "cell_type": "code",
   "execution_count": null,
   "metadata": {},
   "outputs": [],
   "source": []
  },
  {
   "cell_type": "code",
   "execution_count": null,
   "metadata": {},
   "outputs": [],
   "source": [
    "librosa.display.waveplot(beatles[0])"
   ]
  },
  {
   "cell_type": "code",
   "execution_count": null,
   "metadata": {},
   "outputs": [],
   "source": [
    "ipd.Audio(beatles[0], rate = beatles[1])"
   ]
  },
  {
   "cell_type": "code",
   "execution_count": null,
   "metadata": {},
   "outputs": [],
   "source": [
    "vamp.list_plugins()\n"
   ]
  },
  {
   "cell_type": "code",
   "execution_count": null,
   "metadata": {},
   "outputs": [],
   "source": [
    "chords = vamp.collect(beatles[0], beatles[1], \"nnls-chroma:chordino\")"
   ]
  },
  {
   "cell_type": "code",
   "execution_count": null,
   "metadata": {},
   "outputs": [],
   "source": [
    "pprint(list(enumerate(chords['list'])))"
   ]
  },
  {
   "cell_type": "code",
   "execution_count": null,
   "metadata": {},
   "outputs": [],
   "source": [
    "chord_pairs = list(zip(chords['list'][:-1], chords['list'][1:]))\n",
    "timestamps = [[float(c[0]['timestamp']), float(c[1]['timestamp'])] for c in chord_pairs]\n",
    "bounds = [librosa.time_to_samples(t, beatles[1]) for t in timestamps]\n",
    "\n",
    "chord_number = 11\n",
    "print(chords['list'][chord_number]['label'], bounds[chord_number])\n",
    "ipd.Audio(beatles[0][bounds[chord_number][0]:bounds[chord_number][1]], rate=beatles[1])"
   ]
  },
  {
   "cell_type": "code",
   "execution_count": null,
   "metadata": {},
   "outputs": [],
   "source": [
    "list(chords[:-1])"
   ]
  },
  {
   "cell_type": "code",
   "execution_count": null,
   "metadata": {},
   "outputs": [],
   "source": [
    "last_chord_index = -1\n",
    "while chords['list'][last_chord_index]['label'] == 'N':\n",
    "    last_chord_index -= 1\n",
    "last_chord = chords['list'][last_chord_index]['label']\n",
    "print(last_chord)"
   ]
  },
  {
   "cell_type": "code",
   "execution_count": null,
   "metadata": {},
   "outputs": [],
   "source": [
    "for chord in chords['list']:\n",
    "    print(chord)"
   ]
  },
  {
   "cell_type": "code",
   "execution_count": null,
   "metadata": {},
   "outputs": [],
   "source": [
    "numb_appearance_chord = {}\n",
    "for chord in chords['list']:\n",
    "    numb_appearance_chord.setdefault(chord['label'], 0)\n",
    "    numb_appearance_chord[chord['label']] += 1\n",
    "print(numb_appearance_chord)\n",
    "most_appearing_chord = ('', 0)\n",
    "#for chord in numb_appearance_chord:\n",
    "    \n"
   ]
  },
  {
   "cell_type": "code",
   "execution_count": null,
   "metadata": {},
   "outputs": [],
   "source": [
    "import collections\n",
    "list_of_chords = [chord['label'] for chord in chords['list']]\n",
    "numb_appearance_chord2 = collections.Counter(list_of_chords)\n",
    "print(numb_appearance_chord2)\n",
    "most_appearing_chord = numb_appearance_chord2.most_common(1)\n",
    "print(most_appearing_chord)"
   ]
  },
  {
   "cell_type": "code",
   "execution_count": null,
   "metadata": {},
   "outputs": [],
   "source": [
    "chromagram = librosa.feature.chroma_stft(beatles[0], sr=beatles[1], hop_length=512)\n",
    "plt.figure(figsize=(15, 5))\n",
    "chromagram = np.log10(1+10*abs(chromagram))\n",
    "librosa.display.specshow(chromagram, x_axis='time', y_axis='chroma', hop_length=512, cmap='coolwarm')"
   ]
  },
  {
   "cell_type": "code",
   "execution_count": null,
   "metadata": {},
   "outputs": [],
   "source": [
    "X = librosa.stft(beatles[0], n_fft=1024, hop_length=512) #raw ft output (complex), n_fft is window-length, ft is with respect to n_fft"
   ]
  },
  {
   "cell_type": "code",
   "execution_count": null,
   "metadata": {},
   "outputs": [],
   "source": [
    "librosa.display.specshow(X, x_axis='time', hop_length=512) #displaying spectrogram"
   ]
  },
  {
   "cell_type": "code",
   "execution_count": null,
   "metadata": {},
   "outputs": [],
   "source": [
    "Xfilt = np.array([v if i < 25 else np.zeros(X.shape[1]) for i, v in enumerate(X)]) #filtering out frequencies below 270Hz"
   ]
  },
  {
   "cell_type": "code",
   "execution_count": null,
   "metadata": {},
   "outputs": [],
   "source": [
    "Xfilt"
   ]
  },
  {
   "cell_type": "code",
   "execution_count": null,
   "metadata": {},
   "outputs": [],
   "source": [
    "audio = librosa.istft(Xfilt, win_length=1024, hop_length=512)"
   ]
  },
  {
   "cell_type": "code",
   "execution_count": null,
   "metadata": {},
   "outputs": [],
   "source": [
    "ipd.Audio(audio, rate = beatles[1])"
   ]
  },
  {
   "cell_type": "code",
   "execution_count": null,
   "metadata": {},
   "outputs": [],
   "source": [
    "# Xdb = librosa.amplitude_to_db(abs(Xfilt)) #length of X after scaling\n",
    "Xdb = abs(Xfilt)"
   ]
  },
  {
   "cell_type": "code",
   "execution_count": null,
   "metadata": {},
   "outputs": [],
   "source": [
    "librosa.display.specshow(Xdb, x_axis='time', y_axis='log', hop_length=512) #display log spectrogram"
   ]
  },
  {
   "cell_type": "code",
   "execution_count": null,
   "metadata": {},
   "outputs": [],
   "source": [
    "Xdb.shape"
   ]
  },
  {
   "cell_type": "code",
   "execution_count": null,
   "metadata": {},
   "outputs": [],
   "source": [
    "librosa.fft_frequencies(n_fft=1024) #start frqeuency of bins in ft output for n_fft=1024"
   ]
  },
  {
   "cell_type": "code",
   "execution_count": null,
   "metadata": {},
   "outputs": [],
   "source": [
    "chroma_filters = librosa.filters.chroma(beatles[1], 1024)"
   ]
  },
  {
   "cell_type": "code",
   "execution_count": null,
   "metadata": {},
   "outputs": [],
   "source": [
    "bass_chromagram = np.array([np.dot(chroma_filters, frame) for frame in Xdb.transpose()]).transpose()"
   ]
  },
  {
   "cell_type": "code",
   "execution_count": null,
   "metadata": {},
   "outputs": [],
   "source": [
    "librosa.display.specshow(bass_chromagram, x_axis='time', y_axis='chroma', hop_length=512, cmap='coolwarm')"
   ]
  },
  {
   "cell_type": "code",
   "execution_count": null,
   "metadata": {},
   "outputs": [],
   "source": [
    "weights = [np.sum(bin) for bin in bass_chromagram]\n",
    "weights /= np.max(weights)\n",
    "print(weights)"
   ]
  },
  {
   "cell_type": "code",
   "execution_count": null,
   "metadata": {},
   "outputs": [],
   "source": [
    "librosa.display.specshow(np.array([weights]).transpose(), x_axis='time', y_axis='chroma', hop_length=512, cmap='coolwarm')"
   ]
  },
  {
   "cell_type": "code",
   "execution_count": null,
   "metadata": {},
   "outputs": [],
   "source": [
    "ipd.Audio(beatles[0], rate = beatles[1])"
   ]
  },
  {
   "cell_type": "code",
   "execution_count": null,
   "metadata": {},
   "outputs": [],
   "source": [
    "chromagram[0]"
   ]
  },
  {
   "cell_type": "code",
   "execution_count": null,
   "metadata": {},
   "outputs": [],
   "source": [
    "weights = [np.sum(bin) for bin in chromagram]\n",
    "weights /= np.max(weights)\n",
    "print(weights)"
   ]
  },
  {
   "cell_type": "code",
   "execution_count": null,
   "metadata": {},
   "outputs": [],
   "source": [
    "librosa.display.specshow(np.array([weights]).transpose(), x_axis='time', y_axis='chroma', hop_length=512, cmap='coolwarm')"
   ]
  },
  {
   "cell_type": "code",
   "execution_count": null,
   "metadata": {},
   "outputs": [],
   "source": [
    "librosa.core.stft(beatles[0], n_fft=len(beatles[0])-1, hop_length=len(beatles[0])-1)"
   ]
  },
  {
   "cell_type": "code",
   "execution_count": null,
   "metadata": {},
   "outputs": [],
   "source": [
    "print(chroma)"
   ]
  },
  {
   "cell_type": "code",
   "execution_count": null,
   "metadata": {},
   "outputs": [],
   "source": [
    "S=chromadata.transpose()\n",
    "librosa.display.specshow(S, sr=beatles[1], hop_length=2056, x_axis='time')\n",
    "plt.colorbar()\n",
    "plt.figure(figsize=(5, 50))"
   ]
  },
  {
   "cell_type": "code",
   "execution_count": null,
   "metadata": {},
   "outputs": [],
   "source": []
  }
 ],
 "metadata": {
  "kernelspec": {
   "display_name": "Python (ear_trainer)",
   "language": "python",
   "name": "ear_trainer"
  },
  "language_info": {
   "codemirror_mode": {
    "name": "ipython",
    "version": 3
   },
   "file_extension": ".py",
   "mimetype": "text/x-python",
   "name": "python",
   "nbconvert_exporter": "python",
   "pygments_lexer": "ipython3",
   "version": "3.6.6"
  }
 },
 "nbformat": 4,
 "nbformat_minor": 2
}
