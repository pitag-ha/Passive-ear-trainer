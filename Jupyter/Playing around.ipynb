{
 "cells": [
  {
   "cell_type": "code",
   "execution_count": null,
   "metadata": {},
   "outputs": [],
   "source": [
    "%matplotlib inline\n",
    "import librosa, librosa.display\n",
    "import IPython.display as ipd\n",
    "import vamp\n",
    "import matplotlib.pyplot as plt\n",
    "import numpy as np\n",
    "import scipy.fftpack as fft"
   ]
  },
  {
   "cell_type": "code",
   "execution_count": null,
   "metadata": {},
   "outputs": [],
   "source": [
    "import re"
   ]
  },
  {
   "cell_type": "code",
   "execution_count": null,
   "metadata": {},
   "outputs": [],
   "source": [
    "import vamp"
   ]
  },
  {
   "cell_type": "code",
   "execution_count": null,
   "metadata": {},
   "outputs": [],
   "source": [
    "import pprint\n",
    "pp = pprint.PrettyPrinter(indent=4)\n",
    "pprint = pp.pprint"
   ]
  },
  {
   "cell_type": "code",
   "execution_count": null,
   "metadata": {},
   "outputs": [],
   "source": [
    "beatles_live = librosa.load('/home/sonja/Dropbox/RC/Passive ear trainer/Songs/Beatles - I wanna hold your hand - live.m4a')\n",
    "beatles = librosa.load('/home/sonja/Dropbox/RC/Passive ear trainer/Songs/Beatles - I wanna hold your hand -studio.m4a')"
   ]
  },
  {
   "cell_type": "code",
   "execution_count": null,
   "metadata": {},
   "outputs": [],
   "source": [
    "cow = librosa.load('/home/sonja/Dropbox/RC/Passive ear trainer/Songs/Kuh muht-TdheW61w4Co.m4a')"
   ]
  },
  {
   "cell_type": "code",
   "execution_count": null,
   "metadata": {},
   "outputs": [],
   "source": [
    "cow_chords = vamp.collect(cow[0], cow[1], \"nnls-chroma:chordino\")['list']"
   ]
  },
  {
   "cell_type": "code",
   "execution_count": null,
   "metadata": {},
   "outputs": [],
   "source": [
    "pprint(list(enumerate(cow_chords)))"
   ]
  },
  {
   "cell_type": "code",
   "execution_count": null,
   "metadata": {},
   "outputs": [],
   "source": [
    "label = 'N'\n",
    "ind = 0\n",
    "while label == 'N':\n",
    "    ind += 1\n",
    "    label = cow_chords[ind]['label']\n",
    "beginning_ind = ind\n",
    "print(beginning_ind)\n",
    "while label != 'N':\n",
    "    ind += 1\n",
    "    label = cow_chords[ind]['label']\n",
    "end_ind = ind - 1\n",
    "print(end_ind)\n",
    "\n",
    "timestamps_cow = [float(cow_chords[beginning_ind]['timestamp']), float(cow_chords[2]['timestamp'])]\n",
    "bounds_cow = [librosa.time_to_samples(t, cow[1]) for t in timestamps_cow]\n",
    "print(bounds_cow)\n",
    "bounds_cow[0]=bounds_cow[0]-25000\n",
    "bounds_cow[1]=bounds_cow[0]+35000\n",
    "cow_in_F = cow[0][bounds_cow[0]:bounds_cow[1]]\n",
    "ipd.Audio(cow_in_F, rate=cow[1])"
   ]
  },
  {
   "cell_type": "code",
   "execution_count": null,
   "metadata": {},
   "outputs": [],
   "source": [
    "ipd.Audio(cow_in_F, rate=cow[1]*2**(1/12))"
   ]
  },
  {
   "cell_type": "code",
   "execution_count": null,
   "metadata": {},
   "outputs": [],
   "source": [
    "def last_not_0_before_par(par):\n",
    "    ind = par\n",
    "    while cow[0][ind] == 0:\n",
    "        ind -= 1\n",
    "    return ind\n",
    "\n",
    "def first_0_before_par(par):\n",
    "    ind = par\n",
    "    while cow[0][ind] != 0:\n",
    "        ind -= 1\n",
    "    return ind\n",
    "\n",
    "def sign_change(par):\n",
    "    ind = par\n",
    "    while cow[0][ind] * cow[0][par] > 0:\n",
    "        ind -= 1\n",
    "    return ind"
   ]
  },
  {
   "cell_type": "code",
   "execution_count": null,
   "metadata": {},
   "outputs": [],
   "source": [
    "type(cow[0])"
   ]
  },
  {
   "cell_type": "code",
   "execution_count": null,
   "metadata": {},
   "outputs": [],
   "source": [
    "last_int_sample = last_not_0_before_par(bounds_cow[1])\n",
    "sample = last_int_sample\n",
    "for _  in range(50):\n",
    "    sample = sign_change(sample-1)\n",
    "last_sample_extension = sample\n",
    "\n",
    "for _  in range(1000):\n",
    "    sample = sign_change(sample-1)\n",
    "first_sample_extension = sample\n",
    "    \n",
    "#first_sample_extension = sample\n",
    "print(last_int_sample)\n",
    "print(first_sample_extension)\n",
    "\n",
    "long_sample_cow = cow[0][bounds_cow[0]:bounds_cow[1]]\n",
    "for _ in range(10):\n",
    "    long_sample_cow = np.concatenate((long_sample_cow, cow[0][first_sample_extension:last_sample_extension]))\n",
    "print(len(long_sample_cow))\n",
    "ipd.Audio(long_sample_cow, rate=cow[1])"
   ]
  },
  {
   "cell_type": "code",
   "execution_count": null,
   "metadata": {},
   "outputs": [],
   "source": [
    "def rate_cow(num_seminotes_above_F_sharp):\n",
    "    return cow[1]*2**num_seminotes_above_F_sharp"
   ]
  },
  {
   "cell_type": "code",
   "execution_count": null,
   "metadata": {},
   "outputs": [],
   "source": [
    "def long_enough_cow(num_samples, rate_song, rate_cow):\n",
    "    output = cow[0][bounds_cow[0]:bounds_cow[1]]\n",
    "    while len(output) < num_samples*rate_cow/rate_song:\n",
    "        output = np.concatenate((output, cow[0][first_sample_extension:last_sample_extension]))\n",
    "    return output"
   ]
  },
  {
   "cell_type": "code",
   "execution_count": null,
   "metadata": {},
   "outputs": [],
   "source": [
    "def long_enough_ignoring_frequencies(num_samples):\n",
    "    output = cow[0][bounds_cow[0]:bounds_cow[1]]\n",
    "    while len(output) < num_samples:\n",
    "        output = np.concatenate((output, cow[0][first_sample_extension:last_sample_extension]))\n",
    "    return output"
   ]
  },
  {
   "cell_type": "code",
   "execution_count": null,
   "metadata": {},
   "outputs": [],
   "source": [
    "add_cow = np.zeros(len(beatles[0]))\n",
    "max_num_samples = max([end-beginning for beginning, end in bounds_G])\n",
    "long_cow = long_enough_ignoring_frequencies(max_num_samples)\n",
    "for beginning, end in bounds_G:\n",
    "    if end > len(beatles[0]):\n",
    "        end = len(beatles[0])\n",
    "    add = long_cow[:(end-beginning)]\n",
    "    add_cow[beginning:end] = add\n",
    "print(add_cow_G)\n",
    "print(len(add_cow_G))\n",
    "print(len(beatles[0]))\n",
    "output = beatles[0] + add_cow\n",
    "ipd.Audio(output, rate=beatles[1])"
   ]
  },
  {
   "cell_type": "code",
   "execution_count": null,
   "metadata": {},
   "outputs": [],
   "source": [
    "def function_cow(num_samples, semitones_above_F_sharp):\n",
    "    cow_rate = rate_cow(semitones_above_F_sharp)\n",
    "    long_cow = long_enough_cow(num_samples, beatles[1], semitones_above_F_sharp)\n",
    "    cow_list = [long_cow[0+cow_rate//beatles[1]]*i for i in range(num_samples)]\n",
    "    output = np.array(cow_list, np.float32)\n",
    "    return output"
   ]
  },
  {
   "cell_type": "code",
   "execution_count": null,
   "metadata": {},
   "outputs": [],
   "source": [
    "cow_rate = rate_cow(1)\n",
    "print(cow_rate//beatles[1])\n",
    "beginning, end = bounds_G[0]\n",
    "add = function_cow(end-beginning, 1)\n",
    "print(add[0:50])\n",
    "ipd.Audio(add, rate=beatles[1])"
   ]
  },
  {
   "cell_type": "code",
   "execution_count": null,
   "metadata": {},
   "outputs": [],
   "source": [
    "add_cow_G = np.zeros(len(beatles[0]))\n",
    "for beginning, end in bounds_G:\n",
    "    if end > len(beatles[0]):\n",
    "        end = len(beatles[0])\n",
    "    add = function_cow(end-beginning, 1)\n",
    "    add_cow_G[beginning:end] = add\n",
    "print(add_cow_G)\n",
    "print(len(add_cow_G))\n",
    "print(len(beatles[0]))\n",
    "ipd.Audio(add_cow_G, rate=beatles[1])\n",
    "#output = beatles[0] + add_cow_G\n",
    "#ipd.Audio(output, rate=beatles[1])"
   ]
  },
  {
   "cell_type": "code",
   "execution_count": null,
   "metadata": {},
   "outputs": [],
   "source": [
    "beatles[0].shape"
   ]
  },
  {
   "cell_type": "code",
   "execution_count": null,
   "metadata": {},
   "outputs": [],
   "source": [
    "#beatles[0][100:1000]"
   ]
  },
  {
   "cell_type": "code",
   "execution_count": null,
   "metadata": {},
   "outputs": [],
   "source": [
    "ipd.Audio(beatles[0], rate=beatles[1])"
   ]
  },
  {
   "cell_type": "code",
   "execution_count": null,
   "metadata": {},
   "outputs": [],
   "source": [
    "def note_by_seconds(freq, len, amp=1, rate=beatles[1]):\n",
    "    t = np.linspace(0,len,len*rate)\n",
    "    data = np.sin(2*np.pi*freq*t)*amp\n",
    "    return data"
   ]
  },
  {
   "cell_type": "code",
   "execution_count": null,
   "metadata": {},
   "outputs": [],
   "source": [
    "A_2sec = note_by_seconds(220, 4)\n",
    "print(type(A_2sec))\n",
    "ipd.Audio(A_2sec, rate=beatles[1])"
   ]
  },
  {
   "cell_type": "code",
   "execution_count": null,
   "metadata": {},
   "outputs": [],
   "source": [
    "def note_by_num_samples(freq, num_samples, amp=1, rate=beatles[1]):\n",
    "    data = np.array([np.sin(2*np.pi*freq*librosa.samples_to_time(sample, rate))*amp for sample in range(num_samples)], dtype=np.float32)\n",
    "    return data"
   ]
  },
  {
   "cell_type": "code",
   "execution_count": null,
   "metadata": {},
   "outputs": [],
   "source": []
  },
  {
   "cell_type": "code",
   "execution_count": null,
   "metadata": {},
   "outputs": [],
   "source": [
    "A_10000samples = note_by_num_samples(220, 50000)\n",
    "print(type(A_10000samples))\n",
    "ipd.Audio(A_10000samples, rate=beatles[1])"
   ]
  },
  {
   "cell_type": "markdown",
   "metadata": {},
   "source": []
  },
  {
   "cell_type": "code",
   "execution_count": null,
   "metadata": {},
   "outputs": [],
   "source": []
  },
  {
   "cell_type": "code",
   "execution_count": null,
   "metadata": {},
   "outputs": [],
   "source": [
    "librosa.display.waveplot(beatles[0])"
   ]
  },
  {
   "cell_type": "code",
   "execution_count": null,
   "metadata": {},
   "outputs": [],
   "source": [
    "ipd.Audio(beatles[0], rate = beatles[1])"
   ]
  },
  {
   "cell_type": "code",
   "execution_count": null,
   "metadata": {},
   "outputs": [],
   "source": [
    "vamp.list_plugins()\n",
    "help(vamp.list_plugins)"
   ]
  },
  {
   "cell_type": "code",
   "execution_count": null,
   "metadata": {},
   "outputs": [],
   "source": [
    "chords = vamp.collect(beatles[0], beatles[1], \"nnls-chroma:chordino\")"
   ]
  },
  {
   "cell_type": "code",
   "execution_count": null,
   "metadata": {},
   "outputs": [],
   "source": [
    "pprint(list(enumerate(chords['list'])))"
   ]
  },
  {
   "cell_type": "code",
   "execution_count": null,
   "metadata": {},
   "outputs": [],
   "source": [
    "chords['list'][22]['label'] == 'Ebm'"
   ]
  },
  {
   "cell_type": "code",
   "execution_count": null,
   "metadata": {},
   "outputs": [],
   "source": [
    "chord_pairs = list(zip(chords['list'][:-1], chords['list'][1:]))\n",
    "timestamps = [[float(c[0]['timestamp']), float(c[1]['timestamp'])] for c in chord_pairs]\n",
    "bounds = [librosa.time_to_samples(t, beatles[1]) for t in timestamps]\n",
    "\n",
    "chord_number = 2\n",
    "print(chords['list'][chord_number]['label'], bounds[chord_number])\n",
    "ipd.Audio(beatles[0][bounds[chord_number][0]:bounds[chord_number][1]], rate=beatles[1])"
   ]
  },
  {
   "cell_type": "code",
   "execution_count": null,
   "metadata": {},
   "outputs": [],
   "source": []
  },
  {
   "cell_type": "code",
   "execution_count": null,
   "metadata": {},
   "outputs": [],
   "source": [
    "timestamps_G = [ (float(c[0]['timestamp']), float(c[1]['timestamp'])) for c in chord_pairs if re.match(r'G.*', c[0]['label'])]\n",
    "bounds_G = [librosa.time_to_samples(t, beatles[1]) for t in timestamps_G]\n",
    "lables_G = [c[0]['label'] for c in chord_pairs if re.match(r'G.*', c[0]['label'])]\n",
    "\n",
    "chord_number = 2\n",
    "print(lables_G[chord_number])\n",
    "ipd.Audio(beatles[0][bounds_G[chord_number][0]:bounds_G[chord_number][1]], rate=beatles[1])"
   ]
  },
  {
   "cell_type": "code",
   "execution_count": null,
   "metadata": {},
   "outputs": [],
   "source": [
    "timestamps_D = [ (float(c[0]['timestamp']), float(c[1]['timestamp'])) for c in chord_pairs if re.match(r'D.*', c[0]['label'])]\n",
    "bounds_D = [librosa.time_to_samples(t, beatles[1]) for t in timestamps_D]\n",
    "lables_D = [c[0]['label'] for c in chord_pairs if re.match(r'D.*', c[0]['label'])]\n",
    "\n",
    "chord_number = 2\n",
    "print(lables_D[chord_number])\n",
    "ipd.Audio(beatles[0][bounds_D[chord_number][0]:bounds_D[chord_number][1]], rate=beatles[1])"
   ]
  },
  {
   "cell_type": "code",
   "execution_count": null,
   "metadata": {},
   "outputs": [],
   "source": [
    "add_G = np.zeros(len(beatles[0]))\n",
    "for beginning, end in bounds_G:\n",
    "    if end > len(beatles[0]):\n",
    "        end = len(beatles[0])\n",
    "    add = note_by_num_samples(98., end-beginning)\n",
    "    add_G[beginning:end] = add\n",
    "    \n",
    "output = beatles[0] + add_G\n",
    "ipd.Audio(output, rate=beatles[1])"
   ]
  },
  {
   "cell_type": "code",
   "execution_count": null,
   "metadata": {},
   "outputs": [],
   "source": [
    "add_D = np.zeros(len(beatles[0]))\n",
    "for beginning, end in bounds_D:\n",
    "    if end > len(beatles[0]):\n",
    "        end = len(beatles[0])\n",
    "    add = note_by_num_samples(73.42 , end-beginning)\n",
    "    add_D[beginning:end] = add\n",
    "    \n",
    "output = beatles[0] + add_D\n",
    "ipd.Audio(output, rate=beatles[1])"
   ]
  },
  {
   "cell_type": "code",
   "execution_count": null,
   "metadata": {},
   "outputs": [],
   "source": [
    "list(chords[:-1])"
   ]
  },
  {
   "cell_type": "code",
   "execution_count": null,
   "metadata": {},
   "outputs": [],
   "source": [
    "last_chord_index = -1\n",
    "while chords['list'][last_chord_index]['label'] == 'N':\n",
    "    last_chord_index -= 1\n",
    "last_chord = chords['list'][last_chord_index]['label']\n",
    "print(last_chord)"
   ]
  },
  {
   "cell_type": "code",
   "execution_count": null,
   "metadata": {},
   "outputs": [],
   "source": [
    "for chord in chords['list']:\n",
    "    print(chord)"
   ]
  },
  {
   "cell_type": "code",
   "execution_count": null,
   "metadata": {},
   "outputs": [],
   "source": [
    "numb_appearance_chord = {}\n",
    "for chord in chords['list']:\n",
    "    numb_appearance_chord.setdefault(chord['label'], 0)\n",
    "    numb_appearance_chord[chord['label']] += 1\n",
    "print(numb_appearance_chord)\n",
    "most_appearing_chord = ('', 0)\n",
    "#for chord in numb_appearance_chord:\n",
    "    \n"
   ]
  },
  {
   "cell_type": "code",
   "execution_count": null,
   "metadata": {},
   "outputs": [],
   "source": [
    "import collections\n",
    "list_of_chords = [chord['label'] for chord in chords['list']]\n",
    "numb_appearance_chord2 = collections.Counter(list_of_chords)\n",
    "print(numb_appearance_chord2)\n",
    "most_appearing_chord = numb_appearance_chord2.most_common(1)\n",
    "print(most_appearing_chord)"
   ]
  },
  {
   "cell_type": "code",
   "execution_count": null,
   "metadata": {},
   "outputs": [],
   "source": [
    "chromagram = librosa.feature.chroma_stft(beatles[0], sr=beatles[1], hop_length=512)\n",
    "plt.figure(figsize=(15, 5))\n",
    "chromagram = np.log10(1+10*abs(chromagram))\n",
    "librosa.display.specshow(chromagram, x_axis='time', y_axis='chroma', hop_length=512, cmap='coolwarm')"
   ]
  },
  {
   "cell_type": "code",
   "execution_count": null,
   "metadata": {},
   "outputs": [],
   "source": [
    "X = librosa.stft(beatles[0], n_fft=1024, hop_length=512) #raw ft output (complex), n_fft is window-length, ft is with respect to n_fft"
   ]
  },
  {
   "cell_type": "code",
   "execution_count": null,
   "metadata": {},
   "outputs": [],
   "source": [
    "librosa.display.specshow(X, x_axis='time', hop_length=512) #displaying spectrogram"
   ]
  },
  {
   "cell_type": "code",
   "execution_count": null,
   "metadata": {},
   "outputs": [],
   "source": [
    "Xfilt = np.array([v if i < 25 else np.zeros(X.shape[1]) for i, v in enumerate(X)]) #filtering out frequencies below 270Hz"
   ]
  },
  {
   "cell_type": "code",
   "execution_count": null,
   "metadata": {},
   "outputs": [],
   "source": [
    "Xfilt"
   ]
  },
  {
   "cell_type": "code",
   "execution_count": null,
   "metadata": {},
   "outputs": [],
   "source": [
    "audio = librosa.istft(Xfilt, win_length=1024, hop_length=512)"
   ]
  },
  {
   "cell_type": "code",
   "execution_count": null,
   "metadata": {},
   "outputs": [],
   "source": [
    "ipd.Audio(audio, rate = beatles[1])"
   ]
  },
  {
   "cell_type": "code",
   "execution_count": null,
   "metadata": {},
   "outputs": [],
   "source": [
    "# Xdb = librosa.amplitude_to_db(abs(Xfilt)) #length of X after scaling\n",
    "Xdb = abs(Xfilt)"
   ]
  },
  {
   "cell_type": "code",
   "execution_count": null,
   "metadata": {},
   "outputs": [],
   "source": [
    "librosa.display.specshow(Xdb, x_axis='time', y_axis='log', hop_length=512) #display log spectrogram"
   ]
  },
  {
   "cell_type": "code",
   "execution_count": null,
   "metadata": {},
   "outputs": [],
   "source": [
    "Xdb.shape"
   ]
  },
  {
   "cell_type": "code",
   "execution_count": null,
   "metadata": {},
   "outputs": [],
   "source": [
    "librosa.fft_frequencies(n_fft=1024) #start frqeuency of bins in ft output for n_fft=1024"
   ]
  },
  {
   "cell_type": "code",
   "execution_count": null,
   "metadata": {},
   "outputs": [],
   "source": [
    "chroma_filters = librosa.filters.chroma(beatles[1], 1024)"
   ]
  },
  {
   "cell_type": "code",
   "execution_count": null,
   "metadata": {},
   "outputs": [],
   "source": [
    "bass_chromagram = np.array([np.dot(chroma_filters, frame) for frame in Xdb.transpose()]).transpose()"
   ]
  },
  {
   "cell_type": "code",
   "execution_count": null,
   "metadata": {},
   "outputs": [],
   "source": [
    "librosa.display.specshow(bass_chromagram, x_axis='time', y_axis='chroma', hop_length=512, cmap='coolwarm')"
   ]
  },
  {
   "cell_type": "code",
   "execution_count": null,
   "metadata": {},
   "outputs": [],
   "source": [
    "weights = [np.sum(bin) for bin in bass_chromagram]\n",
    "weights /= np.max(weights)\n",
    "print(weights)"
   ]
  },
  {
   "cell_type": "code",
   "execution_count": null,
   "metadata": {},
   "outputs": [],
   "source": [
    "librosa.display.specshow(np.array([weights]).transpose(), x_axis='time', y_axis='chroma', hop_length=512, cmap='coolwarm')"
   ]
  },
  {
   "cell_type": "code",
   "execution_count": null,
   "metadata": {},
   "outputs": [],
   "source": [
    "ipd.Audio(beatles[0], rate = beatles[1])"
   ]
  },
  {
   "cell_type": "code",
   "execution_count": null,
   "metadata": {},
   "outputs": [],
   "source": [
    "chromagram[0]"
   ]
  },
  {
   "cell_type": "code",
   "execution_count": null,
   "metadata": {},
   "outputs": [],
   "source": [
    "weights = [np.sum(bin) for bin in chromagram]\n",
    "weights /= np.max(weights)\n",
    "print(weights)"
   ]
  },
  {
   "cell_type": "code",
   "execution_count": null,
   "metadata": {},
   "outputs": [],
   "source": [
    "librosa.display.specshow(np.array([weights]).transpose(), x_axis='time', y_axis='chroma', hop_length=512, cmap='coolwarm')"
   ]
  },
  {
   "cell_type": "code",
   "execution_count": null,
   "metadata": {},
   "outputs": [],
   "source": [
    "librosa.core.stft(beatles[0], n_fft=len(beatles[0])-1, hop_length=len(beatles[0])-1)"
   ]
  },
  {
   "cell_type": "code",
   "execution_count": null,
   "metadata": {},
   "outputs": [],
   "source": [
    "print(chroma)"
   ]
  },
  {
   "cell_type": "code",
   "execution_count": null,
   "metadata": {},
   "outputs": [],
   "source": [
    "S=chromadata.transpose()\n",
    "librosa.display.specshow(S, sr=beatles[1], hop_length=2056, x_axis='time')\n",
    "plt.colorbar()\n",
    "plt.figure(figsize=(5, 50))"
   ]
  },
  {
   "cell_type": "code",
   "execution_count": null,
   "metadata": {},
   "outputs": [],
   "source": []
  }
 ],
 "metadata": {
  "kernelspec": {
   "display_name": "Python (ear_trainer)",
   "language": "python",
   "name": "ear_trainer"
  },
  "language_info": {
   "codemirror_mode": {
    "name": "ipython",
    "version": 3
   },
   "file_extension": ".py",
   "mimetype": "text/x-python",
   "name": "python",
   "nbconvert_exporter": "python",
   "pygments_lexer": "ipython3",
   "version": "3.6.6"
  }
 },
 "nbformat": 4,
 "nbformat_minor": 2
}
