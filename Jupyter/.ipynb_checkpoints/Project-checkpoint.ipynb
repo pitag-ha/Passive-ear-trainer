{
 "cells": [
  {
   "cell_type": "code",
   "execution_count": null,
   "metadata": {},
   "outputs": [],
   "source": [
    "%matplotlib inline\n",
    "import librosa, librosa.display\n",
    "import IPython.display as ipd\n",
    "import vamp\n",
    "import matplotlib.pyplot as plt\n",
    "import numpy as np\n",
    "import scipy.fftpack as fft"
   ]
  },
  {
   "cell_type": "code",
   "execution_count": null,
   "metadata": {},
   "outputs": [],
   "source": [
    "import re\n",
    "import collections"
   ]
  },
  {
   "cell_type": "code",
   "execution_count": null,
   "metadata": {},
   "outputs": [],
   "source": [
    "import pprint\n",
    "pp = pprint.PrettyPrinter(indent=4)\n",
    "pprint = pp.pprint"
   ]
  },
  {
   "cell_type": "code",
   "execution_count": null,
   "metadata": {},
   "outputs": [],
   "source": [
    "import vamp"
   ]
  },
  {
   "cell_type": "code",
   "execution_count": null,
   "metadata": {},
   "outputs": [],
   "source": [
    "#path = '/home/sonja/Dropbox/RC/Music project/Autumn Leaves - Yenne Lee plays 2004 Pepe Romero Jr.-HxGT5z6d-GA.m4a'\n",
    "#path = '/home/sonja/Dropbox/RC/Music project/Beatles - I wanna hold your hand - live.m4a'\n",
    "#path = '/home/sonja/Dropbox/RC/Music project/Beatles - I wanna hold your hand -studio.m4a'\n",
    "#path = '/home/sonja/Dropbox/RC/Music project/Dumb Ways to Die-IJNR2EpS0jw.m4a'\n",
    "#path = '/home/sonja/Dropbox/RC/Music project/Queen - I Want to Break Free (Official Lyric Video)-WUOtCLOXgm8.m4a'\n",
    "#path = '/home/sonja/Dropbox/RC/Music project/Selena Gomez, Marshmello - Wolves (Official Music Video)-cH4E_t3m3xM.m4a'\n",
    "#path = '/home/sonja/Dropbox/RC/Music project/The Killers - Human-RIZdjT1472Y.m4a'\n",
    "path = '/home/sonja/Dropbox/RC/Music project/THE MUFFIN SONG (asdfmovie feat. Schmoyoho)-LACbVhgtx9I.m4a'"
   ]
  },
  {
   "cell_type": "code",
   "execution_count": null,
   "metadata": {},
   "outputs": [],
   "source": [
    "#HAS TO BE RUN FOR EVERY SONG\n",
    "song = librosa.load(path)"
   ]
  },
  {
   "cell_type": "code",
   "execution_count": null,
   "metadata": {},
   "outputs": [],
   "source": [
    "cow = librosa.load('/home/sonja/Dropbox/RC/Music project/Kuh muht-TdheW61w4Co.m4a')"
   ]
  },
  {
   "cell_type": "code",
   "execution_count": null,
   "metadata": {},
   "outputs": [],
   "source": [
    "cow_chords = vamp.collect(cow[0], cow[1], \"nnls-chroma:chordino\")['list']"
   ]
  },
  {
   "cell_type": "code",
   "execution_count": null,
   "metadata": {},
   "outputs": [],
   "source": [
    "#for cow\n",
    "label = 'N'\n",
    "ind = 0\n",
    "while label == 'N':\n",
    "    ind += 1\n",
    "    label = cow_chords[ind]['label']\n",
    "beginning_ind = ind\n",
    "print(beginning_ind)\n",
    "while label != 'N':\n",
    "    ind += 1\n",
    "    label = cow_chords[ind]['label']\n",
    "end_ind = ind - 1\n",
    "print(end_ind)\n",
    "\n",
    "timestamps_cow = [float(cow_chords[beginning_ind]['timestamp']), float(cow_chords[2]['timestamp'])]\n",
    "bounds_cow = [librosa.time_to_samples(t, cow[1]) for t in timestamps_cow]\n",
    "print(bounds_cow)\n",
    "bounds_cow[0]=bounds_cow[0]-25000\n",
    "bounds_cow[1]=bounds_cow[0]+35000\n",
    "cow_in_F = cow[0][bounds_cow[0]:bounds_cow[1]]\n",
    "ipd.Audio(cow_in_F, rate=cow[1])"
   ]
  },
  {
   "cell_type": "code",
   "execution_count": null,
   "metadata": {},
   "outputs": [],
   "source": [
    "#for cow\n",
    "def last_not_0_before_par(par):\n",
    "    ind = par\n",
    "    while cow[0][ind] == 0:\n",
    "        ind -= 1\n",
    "    return ind\n",
    "\n",
    "def first_0_before_par(par):\n",
    "    ind = par\n",
    "    while cow[0][ind] != 0:\n",
    "        ind -= 1\n",
    "    return ind\n",
    "\n",
    "def sign_change(par):\n",
    "    ind = par\n",
    "    while cow[0][ind] * cow[0][par] > 0:\n",
    "        ind -= 1\n",
    "    return ind"
   ]
  },
  {
   "cell_type": "code",
   "execution_count": null,
   "metadata": {},
   "outputs": [],
   "source": [
    "#for cow\n",
    "last_int_sample = last_not_0_before_par(bounds_cow[1])\n",
    "sample = last_int_sample\n",
    "for _  in range(50):\n",
    "    sample = sign_change(sample-1)\n",
    "last_sample_extension = sample\n",
    "\n",
    "for _  in range(1000):\n",
    "    sample = sign_change(sample-1)\n",
    "first_sample_extension = sample\n",
    "    \n",
    "#first_sample_extension = sample\n",
    "print(last_int_sample)\n",
    "print(first_sample_extension)\n",
    "\n",
    "long_sample_cow = cow[0][bounds_cow[0]:bounds_cow[1]]\n",
    "for _ in range(10):\n",
    "    long_sample_cow = np.concatenate((long_sample_cow, cow[0][first_sample_extension:last_sample_extension]))\n",
    "print(len(long_sample_cow))\n",
    "ipd.Audio(long_sample_cow, rate=cow[1])"
   ]
  },
  {
   "cell_type": "code",
   "execution_count": null,
   "metadata": {},
   "outputs": [],
   "source": [
    "#for cow\n",
    "def long_enough_ignoring_frequencies(num_samples):\n",
    "    output = cow[0][bounds_cow[0]:bounds_cow[1]]\n",
    "    while len(output) < num_samples:\n",
    "        output = np.concatenate((output, cow[0][first_sample_extension:last_sample_extension]))\n",
    "    return output"
   ]
  },
  {
   "cell_type": "code",
   "execution_count": null,
   "metadata": {},
   "outputs": [],
   "source": [
    "#for synth note\n",
    "def note_by_num_samples(freq, num_samples, amp=1, rate=song[1]):\n",
    "    data = np.array([np.sin(2*np.pi*freq*librosa.samples_to_time(sample, rate))*amp for sample in range(num_samples)], dtype=np.float32)\n",
    "    return data"
   ]
  },
  {
   "cell_type": "code",
   "execution_count": null,
   "metadata": {},
   "outputs": [],
   "source": [
    "encr_notes = {'C':0, 'C#':1, 'Db':1, 'D':2, 'D#':3, 'Eb':3, 'E':4, 'Fb':4, 'E#':5, 'F':5, 'F#':6, 'Gb':6, 'G':7, 'G#':8, 'Ab':8, 'A':9, 'A#':10, 'Bb':10, 'B':11, 'Cb':11, 'B#':0}\n",
    "#pprint(encr_notes)"
   ]
  },
  {
   "cell_type": "code",
   "execution_count": null,
   "metadata": {},
   "outputs": [],
   "source": [
    "notes_sharp_bass = [('C', 65.41), ('C#', 69.30), ('D', 73.42), ('D#', 77.78), ('E', 82.41), ('F', 87.31), ('F#', 92.50), ('G', 98.00), ('G#', 103.83), ('A', 110.00), ('A#', 116.54), ('B', 123.47)]\n",
    "notes_sharp_medium_pitch = [('C', 130.81), ('C#',  138.59), ('D',  146.83), ('D#',  155.56), ('E',  164.81), ('F',  174.61), ('F#',  185.00), ('G',  196.00), ('G#',  207.65), ('A',  220.00), ('A#',  233.08), ('B',  246.94)]\n",
    "#to do: make similar list for flat notes"
   ]
  },
  {
   "cell_type": "code",
   "execution_count": null,
   "metadata": {},
   "outputs": [],
   "source": [
    "#HAS TO BE RUN FOR EVERY SONG\n",
    "#find all chords and time stamps\n",
    "chords = vamp.collect(song[0], song[1], \"nnls-chroma:chordino\")['list']\n",
    "pprint(list(enumerate(chords)))"
   ]
  },
  {
   "cell_type": "code",
   "execution_count": null,
   "metadata": {},
   "outputs": [],
   "source": [
    "#HAS TO BE RUN FOR EVERY SONG\n",
    "#Find tonality:\n",
    "last_chord_index = -1\n",
    "while chords[last_chord_index]['label'] == 'N':\n",
    "    last_chord_index -= 1\n",
    "last_chord = chords[last_chord_index]['label']\n",
    "\n",
    "list_of_chords = [chord['label'] for chord in chords]\n",
    "numb_appearance_chord2 = collections.Counter(list_of_chords)\n",
    "most_appearing_chord = numb_appearance_chord2.most_common(1)[0][0]\n",
    "\n",
    "\n",
    "sign = ''\n",
    "if len(most_appearing_chord) > 1:\n",
    "    if most_appearing_chord[1] == '#' or most_appearing_chord[1] == 'b':\n",
    "        sign = most_appearing_chord[1]\n",
    "\n",
    "tonality = most_appearing_chord[0] + sign\n",
    "print('Tonality:', tonality)\n",
    "if last_chord != most_appearing_chord:\n",
    "    print('Tonality might be wrong, sorry!')\n",
    "    "
   ]
  },
  {
   "cell_type": "code",
   "execution_count": null,
   "metadata": {},
   "outputs": [],
   "source": [
    "scale_degree_in_semitones = {1:0, 2:2, 3:4, 4:5, 5:7, 6:9, 7:11}"
   ]
  },
  {
   "cell_type": "code",
   "execution_count": null,
   "metadata": {},
   "outputs": [],
   "source": [
    "#HAS TO BE RUN FOR EVERY SONG\n",
    "#Compute the chord that corresponds to a certain scale degree:\n",
    "scale_degree = 1\n",
    "chord = notes_sharp_medium_pitch[(encr_notes[tonality] + scale_degree_in_semitones[scale_degree]) % 12]\n",
    "print(chord)"
   ]
  },
  {
   "cell_type": "code",
   "execution_count": null,
   "metadata": {},
   "outputs": [],
   "source": [
    "#HAS TO BE RUN FOR EVERY SONG\n",
    "#Find the time stamps in between which the chord corresponding to the chosen scale degree appears in the song:\n",
    "chord_pairs = list(zip(chords[:-1], chords[1:]))\n",
    "timestamps_chord = [ (float(c[0]['timestamp']), float(c[1]['timestamp'])) for c in chord_pairs if re.match(re.escape(chord[0])+r'.*', c[0]['label'])]\n",
    "bounds_chord = [librosa.time_to_samples(t, song[1]) for t in timestamps_chord]\n",
    "lables_chord = [c[0]['label'] for c in chord_pairs if re.match(re.escape(chord[0])+r'.*', c[0]['label'])]\n",
    "\n",
    "#chord_number = 2\n",
    "#print(lables_chord[chord_number])\n",
    "#ipd.Audio(song[0][bounds_chord[chord_number][0]:bounds_chord[chord_number][1]], rate=song[1])\n"
   ]
  },
  {
   "cell_type": "code",
   "execution_count": null,
   "metadata": {},
   "outputs": [],
   "source": [
    "#Has TO BE TUN FOR EVERY SONG\n",
    "#Compute highest amplitude in the song:\n",
    "max_amplitude = max(song[0])\n",
    "print(max_amplitude)"
   ]
  },
  {
   "cell_type": "code",
   "execution_count": null,
   "metadata": {},
   "outputs": [],
   "source": [
    "#HAS TO BE RUN FOR EVERY SONG\n",
    "#Generate the output (audio of song plus the base note of the chord corresponding to the scale degree chosen every time that chord appears):\n",
    "add_to_song = np.zeros(len(song[0]))\n",
    "for beginning, end in bounds_chord:\n",
    "    if end > len(song[0]):\n",
    "        end = len(song[0])\n",
    "    add = note_by_num_samples(chord[1] , end-beginning, amp=(max_amplitude/2))\n",
    "    add_to_song[beginning:end] = add\n",
    "    \n",
    "output = song[0] + add_to_song\n",
    "ipd.Audio(output, rate=song[1])"
   ]
  },
  {
   "cell_type": "code",
   "execution_count": null,
   "metadata": {},
   "outputs": [],
   "source": [
    "add_cow = np.zeros(len(song[0]))\n",
    "max_num_samples = max([end-beginning for beginning, end in bounds_chord])\n",
    "long_cow = long_enough_ignoring_frequencies(max_num_samples)\n",
    "for beginning, end in bounds_chord:\n",
    "    if end > len(song[0]):\n",
    "        end = len(song[0])\n",
    "    add = long_cow[:(end-beginning)]\n",
    "    add_cow[beginning:end] = add\n",
    "\n",
    "output = song[0] + add_cow\n",
    "ipd.Audio(output, rate=song[1])"
   ]
  },
  {
   "cell_type": "code",
   "execution_count": null,
   "metadata": {},
   "outputs": [],
   "source": [
    "#Generate the output (audio of song plus the base note of the chord corresponding to the scale degree chosen every time that chord appears):\n",
    "add_to_song = np.zeros(len(song[0]))\n",
    "for beginning, end in bounds_chord:\n",
    "    if end > len(song[0]):\n",
    "        end = len(song[0])\n",
    "    add = note_by_num_samples(chord[1] , end-beginning, amp=(max_amplitude/3))\n",
    "    add_to_song[beginning:end] = add\n",
    "    \n",
    "output = song[0] + add_to_song\n",
    "ipd.Audio(output, rate=song[1])"
   ]
  }
 ],
 "metadata": {
  "kernelspec": {
   "display_name": "Python 3",
   "language": "python",
   "name": "python3"
  },
  "language_info": {
   "codemirror_mode": {
    "name": "ipython",
    "version": 3
   },
   "file_extension": ".py",
   "mimetype": "text/x-python",
   "name": "python",
   "nbconvert_exporter": "python",
   "pygments_lexer": "ipython3",
   "version": "3.7.0"
  }
 },
 "nbformat": 4,
 "nbformat_minor": 2
}
